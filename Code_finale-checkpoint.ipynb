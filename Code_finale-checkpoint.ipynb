{
 "cells": [
  {
   "attachments": {
    "2e88eb47-9a1e-4eac-88cd-aa6ae4f5a9d9.png": {
     "image/png": "[encoded data removed]"
    }
   },
   "cell_type": "markdown",
   "id": "a2a1403f-f5fe-4268-985f-6905fe0efa85",
   "metadata": {},
   "source": [
    "![settat.png](attachment:2e88eb47-9a1e-4eac-88cd-aa6ae4f5a9d9.png)"
   ]
  },
  {
   "cell_type": "markdown",
   "id": "65827df0-f355-4a35-8cbe-a9b083a1f088",
   "metadata": {},
   "source": [
    "### PROJET FINALE : BIKANIMINE_Amina & MOURTAJ HICHAM "
   ]
  },
  {
   "cell_type": "code",
   "execution_count": 246,
   "id": "6f467df4-6cc4-44a6-8334-a053ee3df5d6",
   "metadata": {},
   "outputs": [],
   "source": [
    "import csv\n",
    "import pandas as pd\n",
    "from geopy.geocoders import Nominatim\n",
    "import random "
   ]
  },
  {
   "cell_type": "markdown",
   "id": "55bd7363-99ed-407c-9c38-640c9a048e12",
   "metadata": {},
   "source": [
    "### Créer le fichier csv"
   ]
  },
  {
   "cell_type": "code",
   "execution_count": 214,
   "id": "fd5111dd-7409-4200-9ae0-82c62a8d6845",
   "metadata": {},
   "outputs": [],
   "source": [
    "# Liste des élèves, avec leur nom, prénom et adresse\n",
    "students = [\n",
    "    {'name': 'WATAS', 'firstname': 'ABDESSAMII', 'address': 'SIDI BERNOUSSI' , 'id':'1'},\n",
    "    {'name': 'EL MAHI', 'firstname': 'HASSAN', 'address': 'Khouribga, Maroc' , 'id':'2'},\n",
    "    {'name': 'KHAYOU', 'firstname': 'SANA', 'address': 'Béni Mellal, Maroc' , 'id':'3'},\n",
    "    {'name': 'EL GHIZI', 'firstname': 'ISRAE', 'address': 'Ben Ahmed, Maroc' , 'id':'4'},\n",
    "    {'name': 'MOUKILI', 'firstname': 'ACHRAF', 'address': 'El Gara, Maroc' , 'id':'5'},\n",
    "    {'name': 'MOUKILI', 'firstname': 'ACHRAF', 'address': 'Berrchid, Maroc' , 'id':'6'},\n",
    "\n",
    "]\n",
    "\n",
    "# Ouvre un fichier CSV en mode écriture\n",
    "with open('student.csv', 'w', encoding  = \"UTF-8\" , newline='') as csvfile:\n",
    "    # Crée un objet CSV writer\n",
    "    writer = csv.DictWriter(csvfile, fieldnames=['name', 'firstname', 'address' , 'id'])\n",
    "\n",
    "    # Écrit l'en-tête (les titres de colonne)\n",
    "    writer.writeheader()\n",
    "\n",
    "    # Écrit les lignes (une par élève)\n",
    "    for student in students:\n",
    "        writer.writerow(student)"
   ]
  },
  {
   "cell_type": "code",
   "execution_count": 216,
   "id": "5ae5de9a-337a-47b1-92fb-ce655e86fe76",
   "metadata": {},
   "outputs": [],
   "source": [
    "# Load the CSV file\n",
    "df = pd.read_csv('student.csv')\n",
    "\n",
    "# Extract the list of addresses from the DataFrame\n",
    "addresses = df['address'].tolist()"
   ]
  },
  {
   "cell_type": "code",
   "execution_count": 217,
   "id": "6435af2b-97a3-4fdb-8e19-e4ed6425afe5",
   "metadata": {},
   "outputs": [
    {
     "data": {
      "text/plain": [
       "['SIDI BERNOUSSI',\n",
       " 'Khouribga, Maroc',\n",
       " 'Béni Mellal, Maroc',\n",
       " 'Ben Ahmed, Maroc',\n",
       " 'El Gara, Maroc',\n",
       " 'Berrchid, Maroc']"
      ]
     },
     "execution_count": 217,
     "metadata": {},
     "output_type": "execute_result"
    }
   ],
   "source": [
    "addresses"
   ]
  },
  {
   "cell_type": "markdown",
   "id": "af3a9a04-3822-4f75-bab5-49ae6e4a2c94",
   "metadata": {},
   "source": [
    "### transformer les adresse aux coordonnées"
   ]
  },
  {
   "cell_type": "code",
   "execution_count": 218,
   "id": "381dd490-29f6-442f-9411-35eae7bbb756",
   "metadata": {},
   "outputs": [
    {
     "name": "stdout",
     "output_type": "stream",
     "text": [
      "[(33.6190686, -7.5003234), (32.885508, -6.909238), (32.334193, -6.353335), (33.0660066, -7.2453832), (33.277113, -7.2331554), (33.2684237, -7.5839331)]\n"
     ]
    }
   ],
   "source": [
    "from geopy.geocoders import Nominatim\n",
    "geolocator = Nominatim(user_agent=\"geoapiExercises\")\n",
    "\n",
    "def get_coordinates(address):\n",
    "    location = geolocator.geocode(address)\n",
    "    return (location.latitude, location.longitude)\n",
    "\n",
    "#addresses = [\"123 Main St, Anytown USA\", \"456 Park Ave, Anycity USA\"]\n",
    "coordinates = [get_coordinates(address) for address in addresses]\n",
    "print(coordinates)"
   ]
  },
  {
   "cell_type": "markdown",
   "id": "40e93041-07cd-4308-b5d9-3d942ff2d554",
   "metadata": {},
   "source": [
    "### Adress de l'universite : L'adresse source   "
   ]
  },
  {
   "cell_type": "code",
   "execution_count": 219,
   "id": "d8d1a708-4b2b-4c47-94bf-18dd4bc04f01",
   "metadata": {},
   "outputs": [
    {
     "data": {
      "text/plain": [
       "Location(FST de Settat, Boulevard Mohammed V شارع محمد الخامس, Hay Al Irak, Settat ⵥⵟⵟⴰⵟ سطات, Pachalik de Settat باشوية سطات, Province de Settat إقليم سطات, Casablanca-Settat ⵜⵉⴳⵎⵉ ⵜⵓⵎⵍⵉⵍⵜ-ⵙⵟⵟⴰⵜ الدار البيضاء-سطات, 26100, Maroc / ⵍⵎⵖⵔⵉⴱ / المغرب, (33.03086715, -7.6162350954996265, 0.0))"
      ]
     },
     "execution_count": 219,
     "metadata": {},
     "output_type": "execute_result"
    }
   ],
   "source": [
    "Adress_Sourc  = geolocator.geocode(\" FST SETTAT , MOROCCO \")\n",
    "Adress_Sourc "
   ]
  },
  {
   "cell_type": "code",
   "execution_count": 220,
   "id": "a6fb0bc2-f36e-45a1-be11-794192ab00be",
   "metadata": {},
   "outputs": [
    {
     "data": {
      "text/plain": [
       "(33.03086715, -7.6162350954996265)"
      ]
     },
     "execution_count": 220,
     "metadata": {},
     "output_type": "execute_result"
    }
   ],
   "source": [
    "Adress_Sourc_coord = get_coordinates(Adress_Sourc)\n",
    "Adress_Sourc_coord"
   ]
  },
  {
   "cell_type": "markdown",
   "id": "8988ac73-5f3a-4852-b71f-daea77607ec3",
   "metadata": {},
   "source": [
    "## Calculer la distance de ville par rapport a l'adresse source"
   ]
  },
  {
   "cell_type": "code",
   "execution_count": 221,
   "id": "2c7cd2f4-d6c9-4e16-8a1c-9b2e3b3e8393",
   "metadata": {},
   "outputs": [],
   "source": [
    "from geopy.distance import distance  \n",
    "def calcule_distance(list_coordonee , adress_source ) :\n",
    "    \n",
    "    Distances = [] \n",
    "    for i in range(len(list_coordonee)) :\n",
    "         Distances.append(distance(list_coordonee[i], adress_source).km)\n",
    "    return Distances "
   ]
  },
  {
   "cell_type": "code",
   "execution_count": 222,
   "id": "cc7e6918-1365-460f-ab35-51f53fba0182",
   "metadata": {},
   "outputs": [
    {
     "data": {
      "text/plain": [
       "[66.1242422641822,\n",
       " 68.03950720963174,\n",
       " 141.41194277563412,\n",
       " 34.8568776479923,\n",
       " 44.97819517802659,\n",
       " 26.518506501284616]"
      ]
     },
     "execution_count": 222,
     "metadata": {},
     "output_type": "execute_result"
    }
   ],
   "source": [
    "Liste_distances = calcule_distance( coordinates , Adress_Sourc_coord)\n",
    "Liste_distances"
   ]
  },
  {
   "cell_type": "markdown",
   "id": "c9d5e886-e5ea-4593-a5b1-6b2a39e75d15",
   "metadata": {},
   "source": [
    "### Visualiser l'adresse source sur Maps "
   ]
  },
  {
   "cell_type": "code",
   "execution_count": 223,
   "id": "14a223bd-c1df-4d86-b90b-c1fab84e9106",
   "metadata": {},
   "outputs": [],
   "source": [
    "import folium \n",
    "\n",
    "my_map2 = folium.Map(location = [33.03086715, -7.6162350954996265] ,zoom_start = 20) \n",
    "\n",
    "# CircleMarker with radius \n",
    "folium.CircleMarker(location = [33.03086715, -7.6162350954996265] , color = \"red\" , radius = 50, popup = ' FRI ').add_to(my_map2) \n",
    "\n",
    "# save as html \n",
    "my_map2.save(\" my_map.html \")"
   ]
  },
  {
   "cell_type": "markdown",
   "id": "b11eaea7-fdb2-4211-8534-28abbf5339e9",
   "metadata": {},
   "source": [
    "### Visualiser les endroit par rapport à l'adresse source "
   ]
  },
  {
   "cell_type": "code",
   "execution_count": 224,
   "id": "6433755e-ba05-4ca9-8284-527d784a8c46",
   "metadata": {},
   "outputs": [
    {
     "data": {
      "text/html": [
       "<div style=\"width:100%;\"><div style=\"position:relative;width:100%;height:0;padding-bottom:60%;\"><span style=\"color:#565656\">Make this Notebook Trusted to load map: File -> Trust Notebook</span><iframe srcdoc=\"&lt;!DOCTYPE html&gt;\n",
       "&lt;html&gt;\n",
       "&lt;head&gt;\n",
       "    \n",
       "    &lt;meta http-equiv=&quot;content-type&quot; content=&quot;text/html; charset=UTF-8&quot; /&gt;\n",
       "    \n",
       "        &lt;script&gt;\n",
       "            L_NO_TOUCH = false;\n",
       "            L_DISABLE_3D = false;\n",
       "        &lt;/script&gt;\n",
       "    \n",
       "    &lt;style&gt;html, body {width: 100%;height: 100%;margin: 0;padding: 0;}&lt;/style&gt;\n",
       "    &lt;style&gt;#map {position:absolute;top:0;bottom:0;right:0;left:0;}&lt;/style&gt;\n",
       "    &lt;script src=&quot;https://cdn.jsdelivr.net/npm/leaflet@1.9.3/dist/leaflet.js&quot;&gt;&lt;/script&gt;\n",
       "    &lt;script src=&quot;https://code.jquery.com/jquery-1.12.4.min.js&quot;&gt;&lt;/script&gt;\n",
       "    &lt;script src=&quot;https://cdn.jsdelivr.net/npm/bootstrap@5.2.2/dist/js/bootstrap.bundle.min.js&quot;&gt;&lt;/script&gt;\n",
       "    &lt;script src=&quot;https://cdnjs.cloudflare.com/ajax/libs/Leaflet.awesome-markers/2.0.2/leaflet.awesome-markers.js&quot;&gt;&lt;/script&gt;\n",
       "    &lt;link rel=&quot;stylesheet&quot; href=&quot;https://cdn.jsdelivr.net/npm/leaflet@1.9.3/dist/leaflet.css&quot;/&gt;\n",
       "    &lt;link rel=&quot;stylesheet&quot; href=&quot;https://cdn.jsdelivr.net/npm/bootstrap@5.2.2/dist/css/bootstrap.min.css&quot;/&gt;\n",
       "    &lt;link rel=&quot;stylesheet&quot; href=&quot;https://netdna.bootstrapcdn.com/bootstrap/3.0.0/css/bootstrap.min.css&quot;/&gt;\n",
       "    &lt;link rel=&quot;stylesheet&quot; href=&quot;https://cdn.jsdelivr.net/npm/@fortawesome/fontawesome-free@6.2.0/css/all.min.css&quot;/&gt;\n",
       "    &lt;link rel=&quot;stylesheet&quot; href=&quot;https://cdnjs.cloudflare.com/ajax/libs/Leaflet.awesome-markers/2.0.2/leaflet.awesome-markers.css&quot;/&gt;\n",
       "    &lt;link rel=&quot;stylesheet&quot; href=&quot;https://cdn.jsdelivr.net/gh/python-visualization/folium/folium/templates/leaflet.awesome.rotate.min.css&quot;/&gt;\n",
       "    \n",
       "            &lt;meta name=&quot;viewport&quot; content=&quot;width=device-width,\n",
       "                initial-scale=1.0, maximum-scale=1.0, user-scalable=no&quot; /&gt;\n",
       "            &lt;style&gt;\n",
       "                #map_80b376777b7febfa98e80d87c420c117 {\n",
       "                    position: relative;\n",
       "                    width: 100.0%;\n",
       "                    height: 100.0%;\n",
       "                    left: 0.0%;\n",
       "                    top: 0.0%;\n",
       "                }\n",
       "                .leaflet-container { font-size: 1rem; }\n",
       "            &lt;/style&gt;\n",
       "        \n",
       "&lt;/head&gt;\n",
       "&lt;body&gt;\n",
       "    \n",
       "    \n",
       "            &lt;div class=&quot;folium-map&quot; id=&quot;map_80b376777b7febfa98e80d87c420c117&quot; &gt;&lt;/div&gt;\n",
       "        \n",
       "&lt;/body&gt;\n",
       "&lt;script&gt;\n",
       "    \n",
       "    \n",
       "            var map_80b376777b7febfa98e80d87c420c117 = L.map(\n",
       "                &quot;map_80b376777b7febfa98e80d87c420c117&quot;,\n",
       "                {\n",
       "                    center: [33.03086715, -7.6162350954996265],\n",
       "                    crs: L.CRS.EPSG3857,\n",
       "                    zoom: 7,\n",
       "                    zoomControl: true,\n",
       "                    preferCanvas: false,\n",
       "                }\n",
       "            );\n",
       "\n",
       "            \n",
       "\n",
       "        \n",
       "    \n",
       "            var tile_layer_a254ee9bccd60acb3e30b88a0483fb6a = L.tileLayer(\n",
       "                &quot;https://{s}.tile.openstreetmap.org/{z}/{x}/{y}.png&quot;,\n",
       "                {&quot;attribution&quot;: &quot;Data by \\u0026copy; \\u003ca target=\\&quot;_blank\\&quot; href=\\&quot;http://openstreetmap.org\\&quot;\\u003eOpenStreetMap\\u003c/a\\u003e, under \\u003ca target=\\&quot;_blank\\&quot; href=\\&quot;http://www.openstreetmap.org/copyright\\&quot;\\u003eODbL\\u003c/a\\u003e.&quot;, &quot;detectRetina&quot;: false, &quot;maxNativeZoom&quot;: 18, &quot;maxZoom&quot;: 18, &quot;minZoom&quot;: 0, &quot;noWrap&quot;: false, &quot;opacity&quot;: 1, &quot;subdomains&quot;: &quot;abc&quot;, &quot;tms&quot;: false}\n",
       "            ).addTo(map_80b376777b7febfa98e80d87c420c117);\n",
       "        \n",
       "    \n",
       "            var poly_line_514bbdd2c5226cd0cdf1b5507213d7dc = L.polyline(\n",
       "                [[33.03086715, -7.6162350954996265], [33.6190686, -7.5003234]],\n",
       "                {&quot;bubblingMouseEvents&quot;: true, &quot;color&quot;: &quot;red&quot;, &quot;dashArray&quot;: null, &quot;dashOffset&quot;: null, &quot;fill&quot;: false, &quot;fillColor&quot;: &quot;red&quot;, &quot;fillOpacity&quot;: 0.2, &quot;fillRule&quot;: &quot;evenodd&quot;, &quot;lineCap&quot;: &quot;round&quot;, &quot;lineJoin&quot;: &quot;round&quot;, &quot;noClip&quot;: false, &quot;opacity&quot;: 1, &quot;smoothFactor&quot;: 1.0, &quot;stroke&quot;: true, &quot;weight&quot;: 2.5}\n",
       "            ).addTo(map_80b376777b7febfa98e80d87c420c117);\n",
       "        \n",
       "    \n",
       "            var poly_line_7030a37566cd4168af23e3f72f50ebdd = L.polyline(\n",
       "                [[33.03086715, -7.6162350954996265], [32.885508, -6.909238]],\n",
       "                {&quot;bubblingMouseEvents&quot;: true, &quot;color&quot;: &quot;red&quot;, &quot;dashArray&quot;: null, &quot;dashOffset&quot;: null, &quot;fill&quot;: false, &quot;fillColor&quot;: &quot;red&quot;, &quot;fillOpacity&quot;: 0.2, &quot;fillRule&quot;: &quot;evenodd&quot;, &quot;lineCap&quot;: &quot;round&quot;, &quot;lineJoin&quot;: &quot;round&quot;, &quot;noClip&quot;: false, &quot;opacity&quot;: 1, &quot;smoothFactor&quot;: 1.0, &quot;stroke&quot;: true, &quot;weight&quot;: 2.5}\n",
       "            ).addTo(map_80b376777b7febfa98e80d87c420c117);\n",
       "        \n",
       "    \n",
       "            var poly_line_731f2d3f90ecbe371bfab01c0bd77aca = L.polyline(\n",
       "                [[33.03086715, -7.6162350954996265], [32.334193, -6.353335]],\n",
       "                {&quot;bubblingMouseEvents&quot;: true, &quot;color&quot;: &quot;red&quot;, &quot;dashArray&quot;: null, &quot;dashOffset&quot;: null, &quot;fill&quot;: false, &quot;fillColor&quot;: &quot;red&quot;, &quot;fillOpacity&quot;: 0.2, &quot;fillRule&quot;: &quot;evenodd&quot;, &quot;lineCap&quot;: &quot;round&quot;, &quot;lineJoin&quot;: &quot;round&quot;, &quot;noClip&quot;: false, &quot;opacity&quot;: 1, &quot;smoothFactor&quot;: 1.0, &quot;stroke&quot;: true, &quot;weight&quot;: 2.5}\n",
       "            ).addTo(map_80b376777b7febfa98e80d87c420c117);\n",
       "        \n",
       "    \n",
       "            var poly_line_160e074763f16069c702fcb8babcf1a6 = L.polyline(\n",
       "                [[33.03086715, -7.6162350954996265], [33.0660066, -7.2453832]],\n",
       "                {&quot;bubblingMouseEvents&quot;: true, &quot;color&quot;: &quot;red&quot;, &quot;dashArray&quot;: null, &quot;dashOffset&quot;: null, &quot;fill&quot;: false, &quot;fillColor&quot;: &quot;red&quot;, &quot;fillOpacity&quot;: 0.2, &quot;fillRule&quot;: &quot;evenodd&quot;, &quot;lineCap&quot;: &quot;round&quot;, &quot;lineJoin&quot;: &quot;round&quot;, &quot;noClip&quot;: false, &quot;opacity&quot;: 1, &quot;smoothFactor&quot;: 1.0, &quot;stroke&quot;: true, &quot;weight&quot;: 2.5}\n",
       "            ).addTo(map_80b376777b7febfa98e80d87c420c117);\n",
       "        \n",
       "    \n",
       "            var poly_line_9cf3f78895534b9291234416cfe98204 = L.polyline(\n",
       "                [[33.03086715, -7.6162350954996265], [33.277113, -7.2331554]],\n",
       "                {&quot;bubblingMouseEvents&quot;: true, &quot;color&quot;: &quot;red&quot;, &quot;dashArray&quot;: null, &quot;dashOffset&quot;: null, &quot;fill&quot;: false, &quot;fillColor&quot;: &quot;red&quot;, &quot;fillOpacity&quot;: 0.2, &quot;fillRule&quot;: &quot;evenodd&quot;, &quot;lineCap&quot;: &quot;round&quot;, &quot;lineJoin&quot;: &quot;round&quot;, &quot;noClip&quot;: false, &quot;opacity&quot;: 1, &quot;smoothFactor&quot;: 1.0, &quot;stroke&quot;: true, &quot;weight&quot;: 2.5}\n",
       "            ).addTo(map_80b376777b7febfa98e80d87c420c117);\n",
       "        \n",
       "    \n",
       "            var poly_line_35426b341646ef83e30646215df88ac0 = L.polyline(\n",
       "                [[33.03086715, -7.6162350954996265], [33.2684237, -7.5839331]],\n",
       "                {&quot;bubblingMouseEvents&quot;: true, &quot;color&quot;: &quot;red&quot;, &quot;dashArray&quot;: null, &quot;dashOffset&quot;: null, &quot;fill&quot;: false, &quot;fillColor&quot;: &quot;red&quot;, &quot;fillOpacity&quot;: 0.2, &quot;fillRule&quot;: &quot;evenodd&quot;, &quot;lineCap&quot;: &quot;round&quot;, &quot;lineJoin&quot;: &quot;round&quot;, &quot;noClip&quot;: false, &quot;opacity&quot;: 1, &quot;smoothFactor&quot;: 1.0, &quot;stroke&quot;: true, &quot;weight&quot;: 2.5}\n",
       "            ).addTo(map_80b376777b7febfa98e80d87c420c117);\n",
       "        \n",
       "&lt;/script&gt;\n",
       "&lt;/html&gt;\" style=\"position:absolute;width:100%;height:100%;left:0;top:0;border:none !important;\" allowfullscreen webkitallowfullscreen mozallowfullscreen></iframe></div></div>"
      ],
      "text/plain": [
       "<folium.folium.Map at 0x1b0be1a8e80>"
      ]
     },
     "execution_count": 224,
     "metadata": {},
     "output_type": "execute_result"
    }
   ],
   "source": [
    "import folium\n",
    "\n",
    "# Création de la carte\n",
    "m = folium.Map(location=[33.03086715, -7.6162350954996265], zoom_start=7)\n",
    "\n",
    "# Ajout du premier itinéraire à la carte en utilisant les coordonnées de FST et les distinations\n",
    "for coor in coordinates :\n",
    "    folium.PolyLine(locations=[ Adress_Sourc_coord , coor ], color='red', weight=2.5, opacity=1).add_to(m)\n",
    "    \n",
    "# Affichage de la carte\n",
    "m\n"
   ]
  },
  {
   "cell_type": "code",
   "execution_count": 225,
   "id": "f257dfa6-5894-4a86-869c-705c9033de8d",
   "metadata": {},
   "outputs": [
    {
     "data": {
      "text/html": [
       "<div style=\"width:100%;\"><div style=\"position:relative;width:100%;height:0;padding-bottom:60%;\"><span style=\"color:#565656\">Make this Notebook Trusted to load map: File -> Trust Notebook</span><iframe srcdoc=\"&lt;!DOCTYPE html&gt;\n",
       "&lt;html&gt;\n",
       "&lt;head&gt;\n",
       "    \n",
       "    &lt;meta http-equiv=&quot;content-type&quot; content=&quot;text/html; charset=UTF-8&quot; /&gt;\n",
       "    \n",
       "        &lt;script&gt;\n",
       "            L_NO_TOUCH = false;\n",
       "            L_DISABLE_3D = false;\n",
       "        &lt;/script&gt;\n",
       "    \n",
       "    &lt;style&gt;html, body {width: 100%;height: 100%;margin: 0;padding: 0;}&lt;/style&gt;\n",
       "    &lt;style&gt;#map {position:absolute;top:0;bottom:0;right:0;left:0;}&lt;/style&gt;\n",
       "    &lt;script src=&quot;https://cdn.jsdelivr.net/npm/leaflet@1.9.3/dist/leaflet.js&quot;&gt;&lt;/script&gt;\n",
       "    &lt;script src=&quot;https://code.jquery.com/jquery-1.12.4.min.js&quot;&gt;&lt;/script&gt;\n",
       "    &lt;script src=&quot;https://cdn.jsdelivr.net/npm/bootstrap@5.2.2/dist/js/bootstrap.bundle.min.js&quot;&gt;&lt;/script&gt;\n",
       "    &lt;script src=&quot;https://cdnjs.cloudflare.com/ajax/libs/Leaflet.awesome-markers/2.0.2/leaflet.awesome-markers.js&quot;&gt;&lt;/script&gt;\n",
       "    &lt;link rel=&quot;stylesheet&quot; href=&quot;https://cdn.jsdelivr.net/npm/leaflet@1.9.3/dist/leaflet.css&quot;/&gt;\n",
       "    &lt;link rel=&quot;stylesheet&quot; href=&quot;https://cdn.jsdelivr.net/npm/bootstrap@5.2.2/dist/css/bootstrap.min.css&quot;/&gt;\n",
       "    &lt;link rel=&quot;stylesheet&quot; href=&quot;https://netdna.bootstrapcdn.com/bootstrap/3.0.0/css/bootstrap.min.css&quot;/&gt;\n",
       "    &lt;link rel=&quot;stylesheet&quot; href=&quot;https://cdn.jsdelivr.net/npm/@fortawesome/fontawesome-free@6.2.0/css/all.min.css&quot;/&gt;\n",
       "    &lt;link rel=&quot;stylesheet&quot; href=&quot;https://cdnjs.cloudflare.com/ajax/libs/Leaflet.awesome-markers/2.0.2/leaflet.awesome-markers.css&quot;/&gt;\n",
       "    &lt;link rel=&quot;stylesheet&quot; href=&quot;https://cdn.jsdelivr.net/gh/python-visualization/folium/folium/templates/leaflet.awesome.rotate.min.css&quot;/&gt;\n",
       "    \n",
       "            &lt;meta name=&quot;viewport&quot; content=&quot;width=device-width,\n",
       "                initial-scale=1.0, maximum-scale=1.0, user-scalable=no&quot; /&gt;\n",
       "            &lt;style&gt;\n",
       "                #map_4ec2a234e1a3f23d72fa49838a0c6fa1 {\n",
       "                    position: relative;\n",
       "                    width: 100.0%;\n",
       "                    height: 100.0%;\n",
       "                    left: 0.0%;\n",
       "                    top: 0.0%;\n",
       "                }\n",
       "                .leaflet-container { font-size: 1rem; }\n",
       "            &lt;/style&gt;\n",
       "        \n",
       "&lt;/head&gt;\n",
       "&lt;body&gt;\n",
       "    \n",
       "    \n",
       "            &lt;div class=&quot;folium-map&quot; id=&quot;map_4ec2a234e1a3f23d72fa49838a0c6fa1&quot; &gt;&lt;/div&gt;\n",
       "        \n",
       "&lt;/body&gt;\n",
       "&lt;script&gt;\n",
       "    \n",
       "    \n",
       "            var map_4ec2a234e1a3f23d72fa49838a0c6fa1 = L.map(\n",
       "                &quot;map_4ec2a234e1a3f23d72fa49838a0c6fa1&quot;,\n",
       "                {\n",
       "                    center: [33.03086715, -7.6162350954996265],\n",
       "                    crs: L.CRS.EPSG3857,\n",
       "                    zoom: 8.5,\n",
       "                    zoomControl: true,\n",
       "                    preferCanvas: false,\n",
       "                }\n",
       "            );\n",
       "\n",
       "            \n",
       "\n",
       "        \n",
       "    \n",
       "            var tile_layer_2a72aee1218f51c74be6c1582233892d = L.tileLayer(\n",
       "                &quot;https://{s}.tile.openstreetmap.org/{z}/{x}/{y}.png&quot;,\n",
       "                {&quot;attribution&quot;: &quot;Data by \\u0026copy; \\u003ca target=\\&quot;_blank\\&quot; href=\\&quot;http://openstreetmap.org\\&quot;\\u003eOpenStreetMap\\u003c/a\\u003e, under \\u003ca target=\\&quot;_blank\\&quot; href=\\&quot;http://www.openstreetmap.org/copyright\\&quot;\\u003eODbL\\u003c/a\\u003e.&quot;, &quot;detectRetina&quot;: false, &quot;maxNativeZoom&quot;: 18, &quot;maxZoom&quot;: 18, &quot;minZoom&quot;: 0, &quot;noWrap&quot;: false, &quot;opacity&quot;: 1, &quot;subdomains&quot;: &quot;abc&quot;, &quot;tms&quot;: false}\n",
       "            ).addTo(map_4ec2a234e1a3f23d72fa49838a0c6fa1);\n",
       "        \n",
       "    \n",
       "            var poly_line_c9aaffd71e3144d990590ee1b93ebd12 = L.polyline(\n",
       "                [[33.03086715, -7.6162350954996265], [33.6190686, -7.5003234]],\n",
       "                {&quot;bubblingMouseEvents&quot;: true, &quot;color&quot;: &quot;red&quot;, &quot;dashArray&quot;: null, &quot;dashOffset&quot;: null, &quot;fill&quot;: false, &quot;fillColor&quot;: &quot;red&quot;, &quot;fillOpacity&quot;: 0.2, &quot;fillRule&quot;: &quot;evenodd&quot;, &quot;lineCap&quot;: &quot;round&quot;, &quot;lineJoin&quot;: &quot;round&quot;, &quot;noClip&quot;: false, &quot;opacity&quot;: 1, &quot;smoothFactor&quot;: 1.0, &quot;stroke&quot;: true, &quot;weight&quot;: 2.5}\n",
       "            ).addTo(map_4ec2a234e1a3f23d72fa49838a0c6fa1);\n",
       "        \n",
       "    \n",
       "            var poly_line_7364f6dc5c8bca149b96f620d880baa7 = L.polyline(\n",
       "                [[33.6190686, -7.5003234], [33.6190686, -7.5003234]],\n",
       "                {&quot;bubblingMouseEvents&quot;: true, &quot;color&quot;: &quot;red&quot;, &quot;dashArray&quot;: null, &quot;dashOffset&quot;: null, &quot;fill&quot;: false, &quot;fillColor&quot;: &quot;red&quot;, &quot;fillOpacity&quot;: 0.2, &quot;fillRule&quot;: &quot;evenodd&quot;, &quot;lineCap&quot;: &quot;round&quot;, &quot;lineJoin&quot;: &quot;round&quot;, &quot;noClip&quot;: false, &quot;opacity&quot;: 1, &quot;smoothFactor&quot;: 1.0, &quot;stroke&quot;: true, &quot;weight&quot;: 2.5}\n",
       "            ).addTo(map_4ec2a234e1a3f23d72fa49838a0c6fa1);\n",
       "        \n",
       "    \n",
       "            var poly_line_9e126ee6527f77bdd559565ea3672f1f = L.polyline(\n",
       "                [[33.6190686, -7.5003234], [32.885508, -6.909238]],\n",
       "                {&quot;bubblingMouseEvents&quot;: true, &quot;color&quot;: &quot;red&quot;, &quot;dashArray&quot;: null, &quot;dashOffset&quot;: null, &quot;fill&quot;: false, &quot;fillColor&quot;: &quot;red&quot;, &quot;fillOpacity&quot;: 0.2, &quot;fillRule&quot;: &quot;evenodd&quot;, &quot;lineCap&quot;: &quot;round&quot;, &quot;lineJoin&quot;: &quot;round&quot;, &quot;noClip&quot;: false, &quot;opacity&quot;: 1, &quot;smoothFactor&quot;: 1.0, &quot;stroke&quot;: true, &quot;weight&quot;: 2.5}\n",
       "            ).addTo(map_4ec2a234e1a3f23d72fa49838a0c6fa1);\n",
       "        \n",
       "    \n",
       "            var poly_line_920834936be3d492bd429be4fcc10cd2 = L.polyline(\n",
       "                [[33.6190686, -7.5003234], [32.334193, -6.353335]],\n",
       "                {&quot;bubblingMouseEvents&quot;: true, &quot;color&quot;: &quot;red&quot;, &quot;dashArray&quot;: null, &quot;dashOffset&quot;: null, &quot;fill&quot;: false, &quot;fillColor&quot;: &quot;red&quot;, &quot;fillOpacity&quot;: 0.2, &quot;fillRule&quot;: &quot;evenodd&quot;, &quot;lineCap&quot;: &quot;round&quot;, &quot;lineJoin&quot;: &quot;round&quot;, &quot;noClip&quot;: false, &quot;opacity&quot;: 1, &quot;smoothFactor&quot;: 1.0, &quot;stroke&quot;: true, &quot;weight&quot;: 2.5}\n",
       "            ).addTo(map_4ec2a234e1a3f23d72fa49838a0c6fa1);\n",
       "        \n",
       "    \n",
       "            var poly_line_90c05283f42d68fd41093fa4e2c9926c = L.polyline(\n",
       "                [[33.6190686, -7.5003234], [33.0660066, -7.2453832]],\n",
       "                {&quot;bubblingMouseEvents&quot;: true, &quot;color&quot;: &quot;red&quot;, &quot;dashArray&quot;: null, &quot;dashOffset&quot;: null, &quot;fill&quot;: false, &quot;fillColor&quot;: &quot;red&quot;, &quot;fillOpacity&quot;: 0.2, &quot;fillRule&quot;: &quot;evenodd&quot;, &quot;lineCap&quot;: &quot;round&quot;, &quot;lineJoin&quot;: &quot;round&quot;, &quot;noClip&quot;: false, &quot;opacity&quot;: 1, &quot;smoothFactor&quot;: 1.0, &quot;stroke&quot;: true, &quot;weight&quot;: 2.5}\n",
       "            ).addTo(map_4ec2a234e1a3f23d72fa49838a0c6fa1);\n",
       "        \n",
       "    \n",
       "            var poly_line_a0387f593933e6186d3ccbbd86d1f75c = L.polyline(\n",
       "                [[33.6190686, -7.5003234], [33.277113, -7.2331554]],\n",
       "                {&quot;bubblingMouseEvents&quot;: true, &quot;color&quot;: &quot;red&quot;, &quot;dashArray&quot;: null, &quot;dashOffset&quot;: null, &quot;fill&quot;: false, &quot;fillColor&quot;: &quot;red&quot;, &quot;fillOpacity&quot;: 0.2, &quot;fillRule&quot;: &quot;evenodd&quot;, &quot;lineCap&quot;: &quot;round&quot;, &quot;lineJoin&quot;: &quot;round&quot;, &quot;noClip&quot;: false, &quot;opacity&quot;: 1, &quot;smoothFactor&quot;: 1.0, &quot;stroke&quot;: true, &quot;weight&quot;: 2.5}\n",
       "            ).addTo(map_4ec2a234e1a3f23d72fa49838a0c6fa1);\n",
       "        \n",
       "    \n",
       "            var poly_line_402bc2cf592a2840e044e56059613141 = L.polyline(\n",
       "                [[33.6190686, -7.5003234], [33.2684237, -7.5839331]],\n",
       "                {&quot;bubblingMouseEvents&quot;: true, &quot;color&quot;: &quot;red&quot;, &quot;dashArray&quot;: null, &quot;dashOffset&quot;: null, &quot;fill&quot;: false, &quot;fillColor&quot;: &quot;red&quot;, &quot;fillOpacity&quot;: 0.2, &quot;fillRule&quot;: &quot;evenodd&quot;, &quot;lineCap&quot;: &quot;round&quot;, &quot;lineJoin&quot;: &quot;round&quot;, &quot;noClip&quot;: false, &quot;opacity&quot;: 1, &quot;smoothFactor&quot;: 1.0, &quot;stroke&quot;: true, &quot;weight&quot;: 2.5}\n",
       "            ).addTo(map_4ec2a234e1a3f23d72fa49838a0c6fa1);\n",
       "        \n",
       "    \n",
       "            var poly_line_7c35d2e2059ef7dd7a96c7d2ecde3dc5 = L.polyline(\n",
       "                [[33.03086715, -7.6162350954996265], [32.885508, -6.909238]],\n",
       "                {&quot;bubblingMouseEvents&quot;: true, &quot;color&quot;: &quot;red&quot;, &quot;dashArray&quot;: null, &quot;dashOffset&quot;: null, &quot;fill&quot;: false, &quot;fillColor&quot;: &quot;red&quot;, &quot;fillOpacity&quot;: 0.2, &quot;fillRule&quot;: &quot;evenodd&quot;, &quot;lineCap&quot;: &quot;round&quot;, &quot;lineJoin&quot;: &quot;round&quot;, &quot;noClip&quot;: false, &quot;opacity&quot;: 1, &quot;smoothFactor&quot;: 1.0, &quot;stroke&quot;: true, &quot;weight&quot;: 2.5}\n",
       "            ).addTo(map_4ec2a234e1a3f23d72fa49838a0c6fa1);\n",
       "        \n",
       "    \n",
       "            var poly_line_e7ae2ada46fbad799ada37d5f177c8ef = L.polyline(\n",
       "                [[32.885508, -6.909238], [33.6190686, -7.5003234]],\n",
       "                {&quot;bubblingMouseEvents&quot;: true, &quot;color&quot;: &quot;red&quot;, &quot;dashArray&quot;: null, &quot;dashOffset&quot;: null, &quot;fill&quot;: false, &quot;fillColor&quot;: &quot;red&quot;, &quot;fillOpacity&quot;: 0.2, &quot;fillRule&quot;: &quot;evenodd&quot;, &quot;lineCap&quot;: &quot;round&quot;, &quot;lineJoin&quot;: &quot;round&quot;, &quot;noClip&quot;: false, &quot;opacity&quot;: 1, &quot;smoothFactor&quot;: 1.0, &quot;stroke&quot;: true, &quot;weight&quot;: 2.5}\n",
       "            ).addTo(map_4ec2a234e1a3f23d72fa49838a0c6fa1);\n",
       "        \n",
       "    \n",
       "            var poly_line_db05106995f82afc1484dce12751a76c = L.polyline(\n",
       "                [[32.885508, -6.909238], [32.885508, -6.909238]],\n",
       "                {&quot;bubblingMouseEvents&quot;: true, &quot;color&quot;: &quot;red&quot;, &quot;dashArray&quot;: null, &quot;dashOffset&quot;: null, &quot;fill&quot;: false, &quot;fillColor&quot;: &quot;red&quot;, &quot;fillOpacity&quot;: 0.2, &quot;fillRule&quot;: &quot;evenodd&quot;, &quot;lineCap&quot;: &quot;round&quot;, &quot;lineJoin&quot;: &quot;round&quot;, &quot;noClip&quot;: false, &quot;opacity&quot;: 1, &quot;smoothFactor&quot;: 1.0, &quot;stroke&quot;: true, &quot;weight&quot;: 2.5}\n",
       "            ).addTo(map_4ec2a234e1a3f23d72fa49838a0c6fa1);\n",
       "        \n",
       "    \n",
       "            var poly_line_77ef75823c22c21748bb77676a0c49aa = L.polyline(\n",
       "                [[32.885508, -6.909238], [32.334193, -6.353335]],\n",
       "                {&quot;bubblingMouseEvents&quot;: true, &quot;color&quot;: &quot;red&quot;, &quot;dashArray&quot;: null, &quot;dashOffset&quot;: null, &quot;fill&quot;: false, &quot;fillColor&quot;: &quot;red&quot;, &quot;fillOpacity&quot;: 0.2, &quot;fillRule&quot;: &quot;evenodd&quot;, &quot;lineCap&quot;: &quot;round&quot;, &quot;lineJoin&quot;: &quot;round&quot;, &quot;noClip&quot;: false, &quot;opacity&quot;: 1, &quot;smoothFactor&quot;: 1.0, &quot;stroke&quot;: true, &quot;weight&quot;: 2.5}\n",
       "            ).addTo(map_4ec2a234e1a3f23d72fa49838a0c6fa1);\n",
       "        \n",
       "    \n",
       "            var poly_line_49e8ea43c1b1f4f5ae363272396e1527 = L.polyline(\n",
       "                [[32.885508, -6.909238], [33.0660066, -7.2453832]],\n",
       "                {&quot;bubblingMouseEvents&quot;: true, &quot;color&quot;: &quot;red&quot;, &quot;dashArray&quot;: null, &quot;dashOffset&quot;: null, &quot;fill&quot;: false, &quot;fillColor&quot;: &quot;red&quot;, &quot;fillOpacity&quot;: 0.2, &quot;fillRule&quot;: &quot;evenodd&quot;, &quot;lineCap&quot;: &quot;round&quot;, &quot;lineJoin&quot;: &quot;round&quot;, &quot;noClip&quot;: false, &quot;opacity&quot;: 1, &quot;smoothFactor&quot;: 1.0, &quot;stroke&quot;: true, &quot;weight&quot;: 2.5}\n",
       "            ).addTo(map_4ec2a234e1a3f23d72fa49838a0c6fa1);\n",
       "        \n",
       "    \n",
       "            var poly_line_e00d51b15aba0fb310649b798d2153b2 = L.polyline(\n",
       "                [[32.885508, -6.909238], [33.277113, -7.2331554]],\n",
       "                {&quot;bubblingMouseEvents&quot;: true, &quot;color&quot;: &quot;red&quot;, &quot;dashArray&quot;: null, &quot;dashOffset&quot;: null, &quot;fill&quot;: false, &quot;fillColor&quot;: &quot;red&quot;, &quot;fillOpacity&quot;: 0.2, &quot;fillRule&quot;: &quot;evenodd&quot;, &quot;lineCap&quot;: &quot;round&quot;, &quot;lineJoin&quot;: &quot;round&quot;, &quot;noClip&quot;: false, &quot;opacity&quot;: 1, &quot;smoothFactor&quot;: 1.0, &quot;stroke&quot;: true, &quot;weight&quot;: 2.5}\n",
       "            ).addTo(map_4ec2a234e1a3f23d72fa49838a0c6fa1);\n",
       "        \n",
       "    \n",
       "            var poly_line_fb177f6b2e25abf39742293d0a770fb3 = L.polyline(\n",
       "                [[32.885508, -6.909238], [33.2684237, -7.5839331]],\n",
       "                {&quot;bubblingMouseEvents&quot;: true, &quot;color&quot;: &quot;red&quot;, &quot;dashArray&quot;: null, &quot;dashOffset&quot;: null, &quot;fill&quot;: false, &quot;fillColor&quot;: &quot;red&quot;, &quot;fillOpacity&quot;: 0.2, &quot;fillRule&quot;: &quot;evenodd&quot;, &quot;lineCap&quot;: &quot;round&quot;, &quot;lineJoin&quot;: &quot;round&quot;, &quot;noClip&quot;: false, &quot;opacity&quot;: 1, &quot;smoothFactor&quot;: 1.0, &quot;stroke&quot;: true, &quot;weight&quot;: 2.5}\n",
       "            ).addTo(map_4ec2a234e1a3f23d72fa49838a0c6fa1);\n",
       "        \n",
       "    \n",
       "            var poly_line_afbf2ff67038711cf26748c2f35db0cc = L.polyline(\n",
       "                [[33.03086715, -7.6162350954996265], [32.334193, -6.353335]],\n",
       "                {&quot;bubblingMouseEvents&quot;: true, &quot;color&quot;: &quot;red&quot;, &quot;dashArray&quot;: null, &quot;dashOffset&quot;: null, &quot;fill&quot;: false, &quot;fillColor&quot;: &quot;red&quot;, &quot;fillOpacity&quot;: 0.2, &quot;fillRule&quot;: &quot;evenodd&quot;, &quot;lineCap&quot;: &quot;round&quot;, &quot;lineJoin&quot;: &quot;round&quot;, &quot;noClip&quot;: false, &quot;opacity&quot;: 1, &quot;smoothFactor&quot;: 1.0, &quot;stroke&quot;: true, &quot;weight&quot;: 2.5}\n",
       "            ).addTo(map_4ec2a234e1a3f23d72fa49838a0c6fa1);\n",
       "        \n",
       "    \n",
       "            var poly_line_d5887f61a534ac07c95f8a49e9aad4a4 = L.polyline(\n",
       "                [[32.334193, -6.353335], [33.6190686, -7.5003234]],\n",
       "                {&quot;bubblingMouseEvents&quot;: true, &quot;color&quot;: &quot;red&quot;, &quot;dashArray&quot;: null, &quot;dashOffset&quot;: null, &quot;fill&quot;: false, &quot;fillColor&quot;: &quot;red&quot;, &quot;fillOpacity&quot;: 0.2, &quot;fillRule&quot;: &quot;evenodd&quot;, &quot;lineCap&quot;: &quot;round&quot;, &quot;lineJoin&quot;: &quot;round&quot;, &quot;noClip&quot;: false, &quot;opacity&quot;: 1, &quot;smoothFactor&quot;: 1.0, &quot;stroke&quot;: true, &quot;weight&quot;: 2.5}\n",
       "            ).addTo(map_4ec2a234e1a3f23d72fa49838a0c6fa1);\n",
       "        \n",
       "    \n",
       "            var poly_line_b44776bc43faa4a72d144176956d646e = L.polyline(\n",
       "                [[32.334193, -6.353335], [32.885508, -6.909238]],\n",
       "                {&quot;bubblingMouseEvents&quot;: true, &quot;color&quot;: &quot;red&quot;, &quot;dashArray&quot;: null, &quot;dashOffset&quot;: null, &quot;fill&quot;: false, &quot;fillColor&quot;: &quot;red&quot;, &quot;fillOpacity&quot;: 0.2, &quot;fillRule&quot;: &quot;evenodd&quot;, &quot;lineCap&quot;: &quot;round&quot;, &quot;lineJoin&quot;: &quot;round&quot;, &quot;noClip&quot;: false, &quot;opacity&quot;: 1, &quot;smoothFactor&quot;: 1.0, &quot;stroke&quot;: true, &quot;weight&quot;: 2.5}\n",
       "            ).addTo(map_4ec2a234e1a3f23d72fa49838a0c6fa1);\n",
       "        \n",
       "    \n",
       "            var poly_line_d53f7446645e0bad937061885e2356a2 = L.polyline(\n",
       "                [[32.334193, -6.353335], [32.334193, -6.353335]],\n",
       "                {&quot;bubblingMouseEvents&quot;: true, &quot;color&quot;: &quot;red&quot;, &quot;dashArray&quot;: null, &quot;dashOffset&quot;: null, &quot;fill&quot;: false, &quot;fillColor&quot;: &quot;red&quot;, &quot;fillOpacity&quot;: 0.2, &quot;fillRule&quot;: &quot;evenodd&quot;, &quot;lineCap&quot;: &quot;round&quot;, &quot;lineJoin&quot;: &quot;round&quot;, &quot;noClip&quot;: false, &quot;opacity&quot;: 1, &quot;smoothFactor&quot;: 1.0, &quot;stroke&quot;: true, &quot;weight&quot;: 2.5}\n",
       "            ).addTo(map_4ec2a234e1a3f23d72fa49838a0c6fa1);\n",
       "        \n",
       "    \n",
       "            var poly_line_a41ef62fdea62f2cd467e6fc61e36093 = L.polyline(\n",
       "                [[32.334193, -6.353335], [33.0660066, -7.2453832]],\n",
       "                {&quot;bubblingMouseEvents&quot;: true, &quot;color&quot;: &quot;red&quot;, &quot;dashArray&quot;: null, &quot;dashOffset&quot;: null, &quot;fill&quot;: false, &quot;fillColor&quot;: &quot;red&quot;, &quot;fillOpacity&quot;: 0.2, &quot;fillRule&quot;: &quot;evenodd&quot;, &quot;lineCap&quot;: &quot;round&quot;, &quot;lineJoin&quot;: &quot;round&quot;, &quot;noClip&quot;: false, &quot;opacity&quot;: 1, &quot;smoothFactor&quot;: 1.0, &quot;stroke&quot;: true, &quot;weight&quot;: 2.5}\n",
       "            ).addTo(map_4ec2a234e1a3f23d72fa49838a0c6fa1);\n",
       "        \n",
       "    \n",
       "            var poly_line_5586576550e1855a5debcb4b1897775c = L.polyline(\n",
       "                [[32.334193, -6.353335], [33.277113, -7.2331554]],\n",
       "                {&quot;bubblingMouseEvents&quot;: true, &quot;color&quot;: &quot;red&quot;, &quot;dashArray&quot;: null, &quot;dashOffset&quot;: null, &quot;fill&quot;: false, &quot;fillColor&quot;: &quot;red&quot;, &quot;fillOpacity&quot;: 0.2, &quot;fillRule&quot;: &quot;evenodd&quot;, &quot;lineCap&quot;: &quot;round&quot;, &quot;lineJoin&quot;: &quot;round&quot;, &quot;noClip&quot;: false, &quot;opacity&quot;: 1, &quot;smoothFactor&quot;: 1.0, &quot;stroke&quot;: true, &quot;weight&quot;: 2.5}\n",
       "            ).addTo(map_4ec2a234e1a3f23d72fa49838a0c6fa1);\n",
       "        \n",
       "    \n",
       "            var poly_line_0f93259f471c78c997e21458db6370ef = L.polyline(\n",
       "                [[32.334193, -6.353335], [33.2684237, -7.5839331]],\n",
       "                {&quot;bubblingMouseEvents&quot;: true, &quot;color&quot;: &quot;red&quot;, &quot;dashArray&quot;: null, &quot;dashOffset&quot;: null, &quot;fill&quot;: false, &quot;fillColor&quot;: &quot;red&quot;, &quot;fillOpacity&quot;: 0.2, &quot;fillRule&quot;: &quot;evenodd&quot;, &quot;lineCap&quot;: &quot;round&quot;, &quot;lineJoin&quot;: &quot;round&quot;, &quot;noClip&quot;: false, &quot;opacity&quot;: 1, &quot;smoothFactor&quot;: 1.0, &quot;stroke&quot;: true, &quot;weight&quot;: 2.5}\n",
       "            ).addTo(map_4ec2a234e1a3f23d72fa49838a0c6fa1);\n",
       "        \n",
       "    \n",
       "            var poly_line_70f1b314becffa0e8731b3ec2f47bdb7 = L.polyline(\n",
       "                [[33.03086715, -7.6162350954996265], [33.0660066, -7.2453832]],\n",
       "                {&quot;bubblingMouseEvents&quot;: true, &quot;color&quot;: &quot;red&quot;, &quot;dashArray&quot;: null, &quot;dashOffset&quot;: null, &quot;fill&quot;: false, &quot;fillColor&quot;: &quot;red&quot;, &quot;fillOpacity&quot;: 0.2, &quot;fillRule&quot;: &quot;evenodd&quot;, &quot;lineCap&quot;: &quot;round&quot;, &quot;lineJoin&quot;: &quot;round&quot;, &quot;noClip&quot;: false, &quot;opacity&quot;: 1, &quot;smoothFactor&quot;: 1.0, &quot;stroke&quot;: true, &quot;weight&quot;: 2.5}\n",
       "            ).addTo(map_4ec2a234e1a3f23d72fa49838a0c6fa1);\n",
       "        \n",
       "    \n",
       "            var poly_line_cc32d353ab72cfd9081e7f7111b2167d = L.polyline(\n",
       "                [[33.0660066, -7.2453832], [33.6190686, -7.5003234]],\n",
       "                {&quot;bubblingMouseEvents&quot;: true, &quot;color&quot;: &quot;red&quot;, &quot;dashArray&quot;: null, &quot;dashOffset&quot;: null, &quot;fill&quot;: false, &quot;fillColor&quot;: &quot;red&quot;, &quot;fillOpacity&quot;: 0.2, &quot;fillRule&quot;: &quot;evenodd&quot;, &quot;lineCap&quot;: &quot;round&quot;, &quot;lineJoin&quot;: &quot;round&quot;, &quot;noClip&quot;: false, &quot;opacity&quot;: 1, &quot;smoothFactor&quot;: 1.0, &quot;stroke&quot;: true, &quot;weight&quot;: 2.5}\n",
       "            ).addTo(map_4ec2a234e1a3f23d72fa49838a0c6fa1);\n",
       "        \n",
       "    \n",
       "            var poly_line_bacb80098f71b2f7dbd2228a510b68a9 = L.polyline(\n",
       "                [[33.0660066, -7.2453832], [32.885508, -6.909238]],\n",
       "                {&quot;bubblingMouseEvents&quot;: true, &quot;color&quot;: &quot;red&quot;, &quot;dashArray&quot;: null, &quot;dashOffset&quot;: null, &quot;fill&quot;: false, &quot;fillColor&quot;: &quot;red&quot;, &quot;fillOpacity&quot;: 0.2, &quot;fillRule&quot;: &quot;evenodd&quot;, &quot;lineCap&quot;: &quot;round&quot;, &quot;lineJoin&quot;: &quot;round&quot;, &quot;noClip&quot;: false, &quot;opacity&quot;: 1, &quot;smoothFactor&quot;: 1.0, &quot;stroke&quot;: true, &quot;weight&quot;: 2.5}\n",
       "            ).addTo(map_4ec2a234e1a3f23d72fa49838a0c6fa1);\n",
       "        \n",
       "    \n",
       "            var poly_line_1432f022f94e48428cde93c88d3a0ce1 = L.polyline(\n",
       "                [[33.0660066, -7.2453832], [32.334193, -6.353335]],\n",
       "                {&quot;bubblingMouseEvents&quot;: true, &quot;color&quot;: &quot;red&quot;, &quot;dashArray&quot;: null, &quot;dashOffset&quot;: null, &quot;fill&quot;: false, &quot;fillColor&quot;: &quot;red&quot;, &quot;fillOpacity&quot;: 0.2, &quot;fillRule&quot;: &quot;evenodd&quot;, &quot;lineCap&quot;: &quot;round&quot;, &quot;lineJoin&quot;: &quot;round&quot;, &quot;noClip&quot;: false, &quot;opacity&quot;: 1, &quot;smoothFactor&quot;: 1.0, &quot;stroke&quot;: true, &quot;weight&quot;: 2.5}\n",
       "            ).addTo(map_4ec2a234e1a3f23d72fa49838a0c6fa1);\n",
       "        \n",
       "    \n",
       "            var poly_line_f01eac30fa99a611f6480b7b0036dd0c = L.polyline(\n",
       "                [[33.0660066, -7.2453832], [33.0660066, -7.2453832]],\n",
       "                {&quot;bubblingMouseEvents&quot;: true, &quot;color&quot;: &quot;red&quot;, &quot;dashArray&quot;: null, &quot;dashOffset&quot;: null, &quot;fill&quot;: false, &quot;fillColor&quot;: &quot;red&quot;, &quot;fillOpacity&quot;: 0.2, &quot;fillRule&quot;: &quot;evenodd&quot;, &quot;lineCap&quot;: &quot;round&quot;, &quot;lineJoin&quot;: &quot;round&quot;, &quot;noClip&quot;: false, &quot;opacity&quot;: 1, &quot;smoothFactor&quot;: 1.0, &quot;stroke&quot;: true, &quot;weight&quot;: 2.5}\n",
       "            ).addTo(map_4ec2a234e1a3f23d72fa49838a0c6fa1);\n",
       "        \n",
       "    \n",
       "            var poly_line_c350de28d6ddbc2c6800cffa434c7c1d = L.polyline(\n",
       "                [[33.0660066, -7.2453832], [33.277113, -7.2331554]],\n",
       "                {&quot;bubblingMouseEvents&quot;: true, &quot;color&quot;: &quot;red&quot;, &quot;dashArray&quot;: null, &quot;dashOffset&quot;: null, &quot;fill&quot;: false, &quot;fillColor&quot;: &quot;red&quot;, &quot;fillOpacity&quot;: 0.2, &quot;fillRule&quot;: &quot;evenodd&quot;, &quot;lineCap&quot;: &quot;round&quot;, &quot;lineJoin&quot;: &quot;round&quot;, &quot;noClip&quot;: false, &quot;opacity&quot;: 1, &quot;smoothFactor&quot;: 1.0, &quot;stroke&quot;: true, &quot;weight&quot;: 2.5}\n",
       "            ).addTo(map_4ec2a234e1a3f23d72fa49838a0c6fa1);\n",
       "        \n",
       "    \n",
       "            var poly_line_e7c46589e9bb169fafd532b758b2d2a7 = L.polyline(\n",
       "                [[33.0660066, -7.2453832], [33.2684237, -7.5839331]],\n",
       "                {&quot;bubblingMouseEvents&quot;: true, &quot;color&quot;: &quot;red&quot;, &quot;dashArray&quot;: null, &quot;dashOffset&quot;: null, &quot;fill&quot;: false, &quot;fillColor&quot;: &quot;red&quot;, &quot;fillOpacity&quot;: 0.2, &quot;fillRule&quot;: &quot;evenodd&quot;, &quot;lineCap&quot;: &quot;round&quot;, &quot;lineJoin&quot;: &quot;round&quot;, &quot;noClip&quot;: false, &quot;opacity&quot;: 1, &quot;smoothFactor&quot;: 1.0, &quot;stroke&quot;: true, &quot;weight&quot;: 2.5}\n",
       "            ).addTo(map_4ec2a234e1a3f23d72fa49838a0c6fa1);\n",
       "        \n",
       "    \n",
       "            var poly_line_161e7bb5c731726af90feb62bb832e64 = L.polyline(\n",
       "                [[33.03086715, -7.6162350954996265], [33.277113, -7.2331554]],\n",
       "                {&quot;bubblingMouseEvents&quot;: true, &quot;color&quot;: &quot;red&quot;, &quot;dashArray&quot;: null, &quot;dashOffset&quot;: null, &quot;fill&quot;: false, &quot;fillColor&quot;: &quot;red&quot;, &quot;fillOpacity&quot;: 0.2, &quot;fillRule&quot;: &quot;evenodd&quot;, &quot;lineCap&quot;: &quot;round&quot;, &quot;lineJoin&quot;: &quot;round&quot;, &quot;noClip&quot;: false, &quot;opacity&quot;: 1, &quot;smoothFactor&quot;: 1.0, &quot;stroke&quot;: true, &quot;weight&quot;: 2.5}\n",
       "            ).addTo(map_4ec2a234e1a3f23d72fa49838a0c6fa1);\n",
       "        \n",
       "    \n",
       "            var poly_line_abf049eb8117e6114371113a0d88f7df = L.polyline(\n",
       "                [[33.277113, -7.2331554], [33.6190686, -7.5003234]],\n",
       "                {&quot;bubblingMouseEvents&quot;: true, &quot;color&quot;: &quot;red&quot;, &quot;dashArray&quot;: null, &quot;dashOffset&quot;: null, &quot;fill&quot;: false, &quot;fillColor&quot;: &quot;red&quot;, &quot;fillOpacity&quot;: 0.2, &quot;fillRule&quot;: &quot;evenodd&quot;, &quot;lineCap&quot;: &quot;round&quot;, &quot;lineJoin&quot;: &quot;round&quot;, &quot;noClip&quot;: false, &quot;opacity&quot;: 1, &quot;smoothFactor&quot;: 1.0, &quot;stroke&quot;: true, &quot;weight&quot;: 2.5}\n",
       "            ).addTo(map_4ec2a234e1a3f23d72fa49838a0c6fa1);\n",
       "        \n",
       "    \n",
       "            var poly_line_2d2a149d48e1fce66bb90b90ba0effea = L.polyline(\n",
       "                [[33.277113, -7.2331554], [32.885508, -6.909238]],\n",
       "                {&quot;bubblingMouseEvents&quot;: true, &quot;color&quot;: &quot;red&quot;, &quot;dashArray&quot;: null, &quot;dashOffset&quot;: null, &quot;fill&quot;: false, &quot;fillColor&quot;: &quot;red&quot;, &quot;fillOpacity&quot;: 0.2, &quot;fillRule&quot;: &quot;evenodd&quot;, &quot;lineCap&quot;: &quot;round&quot;, &quot;lineJoin&quot;: &quot;round&quot;, &quot;noClip&quot;: false, &quot;opacity&quot;: 1, &quot;smoothFactor&quot;: 1.0, &quot;stroke&quot;: true, &quot;weight&quot;: 2.5}\n",
       "            ).addTo(map_4ec2a234e1a3f23d72fa49838a0c6fa1);\n",
       "        \n",
       "    \n",
       "            var poly_line_8de302b438e4d9eba90114530bdab790 = L.polyline(\n",
       "                [[33.277113, -7.2331554], [32.334193, -6.353335]],\n",
       "                {&quot;bubblingMouseEvents&quot;: true, &quot;color&quot;: &quot;red&quot;, &quot;dashArray&quot;: null, &quot;dashOffset&quot;: null, &quot;fill&quot;: false, &quot;fillColor&quot;: &quot;red&quot;, &quot;fillOpacity&quot;: 0.2, &quot;fillRule&quot;: &quot;evenodd&quot;, &quot;lineCap&quot;: &quot;round&quot;, &quot;lineJoin&quot;: &quot;round&quot;, &quot;noClip&quot;: false, &quot;opacity&quot;: 1, &quot;smoothFactor&quot;: 1.0, &quot;stroke&quot;: true, &quot;weight&quot;: 2.5}\n",
       "            ).addTo(map_4ec2a234e1a3f23d72fa49838a0c6fa1);\n",
       "        \n",
       "    \n",
       "            var poly_line_d59d468440263fb2a7270fe559f16638 = L.polyline(\n",
       "                [[33.277113, -7.2331554], [33.0660066, -7.2453832]],\n",
       "                {&quot;bubblingMouseEvents&quot;: true, &quot;color&quot;: &quot;red&quot;, &quot;dashArray&quot;: null, &quot;dashOffset&quot;: null, &quot;fill&quot;: false, &quot;fillColor&quot;: &quot;red&quot;, &quot;fillOpacity&quot;: 0.2, &quot;fillRule&quot;: &quot;evenodd&quot;, &quot;lineCap&quot;: &quot;round&quot;, &quot;lineJoin&quot;: &quot;round&quot;, &quot;noClip&quot;: false, &quot;opacity&quot;: 1, &quot;smoothFactor&quot;: 1.0, &quot;stroke&quot;: true, &quot;weight&quot;: 2.5}\n",
       "            ).addTo(map_4ec2a234e1a3f23d72fa49838a0c6fa1);\n",
       "        \n",
       "    \n",
       "            var poly_line_b66743542b81b780835ebe8b4422350e = L.polyline(\n",
       "                [[33.277113, -7.2331554], [33.277113, -7.2331554]],\n",
       "                {&quot;bubblingMouseEvents&quot;: true, &quot;color&quot;: &quot;red&quot;, &quot;dashArray&quot;: null, &quot;dashOffset&quot;: null, &quot;fill&quot;: false, &quot;fillColor&quot;: &quot;red&quot;, &quot;fillOpacity&quot;: 0.2, &quot;fillRule&quot;: &quot;evenodd&quot;, &quot;lineCap&quot;: &quot;round&quot;, &quot;lineJoin&quot;: &quot;round&quot;, &quot;noClip&quot;: false, &quot;opacity&quot;: 1, &quot;smoothFactor&quot;: 1.0, &quot;stroke&quot;: true, &quot;weight&quot;: 2.5}\n",
       "            ).addTo(map_4ec2a234e1a3f23d72fa49838a0c6fa1);\n",
       "        \n",
       "    \n",
       "            var poly_line_92ada0c1b254beb9770a6dc338549f50 = L.polyline(\n",
       "                [[33.277113, -7.2331554], [33.2684237, -7.5839331]],\n",
       "                {&quot;bubblingMouseEvents&quot;: true, &quot;color&quot;: &quot;red&quot;, &quot;dashArray&quot;: null, &quot;dashOffset&quot;: null, &quot;fill&quot;: false, &quot;fillColor&quot;: &quot;red&quot;, &quot;fillOpacity&quot;: 0.2, &quot;fillRule&quot;: &quot;evenodd&quot;, &quot;lineCap&quot;: &quot;round&quot;, &quot;lineJoin&quot;: &quot;round&quot;, &quot;noClip&quot;: false, &quot;opacity&quot;: 1, &quot;smoothFactor&quot;: 1.0, &quot;stroke&quot;: true, &quot;weight&quot;: 2.5}\n",
       "            ).addTo(map_4ec2a234e1a3f23d72fa49838a0c6fa1);\n",
       "        \n",
       "    \n",
       "            var poly_line_48a62f561581275046b25a9000d9e5e4 = L.polyline(\n",
       "                [[33.03086715, -7.6162350954996265], [33.2684237, -7.5839331]],\n",
       "                {&quot;bubblingMouseEvents&quot;: true, &quot;color&quot;: &quot;red&quot;, &quot;dashArray&quot;: null, &quot;dashOffset&quot;: null, &quot;fill&quot;: false, &quot;fillColor&quot;: &quot;red&quot;, &quot;fillOpacity&quot;: 0.2, &quot;fillRule&quot;: &quot;evenodd&quot;, &quot;lineCap&quot;: &quot;round&quot;, &quot;lineJoin&quot;: &quot;round&quot;, &quot;noClip&quot;: false, &quot;opacity&quot;: 1, &quot;smoothFactor&quot;: 1.0, &quot;stroke&quot;: true, &quot;weight&quot;: 2.5}\n",
       "            ).addTo(map_4ec2a234e1a3f23d72fa49838a0c6fa1);\n",
       "        \n",
       "    \n",
       "            var poly_line_1803d93c6402944bcb32a51bbb68158e = L.polyline(\n",
       "                [[33.2684237, -7.5839331], [33.6190686, -7.5003234]],\n",
       "                {&quot;bubblingMouseEvents&quot;: true, &quot;color&quot;: &quot;red&quot;, &quot;dashArray&quot;: null, &quot;dashOffset&quot;: null, &quot;fill&quot;: false, &quot;fillColor&quot;: &quot;red&quot;, &quot;fillOpacity&quot;: 0.2, &quot;fillRule&quot;: &quot;evenodd&quot;, &quot;lineCap&quot;: &quot;round&quot;, &quot;lineJoin&quot;: &quot;round&quot;, &quot;noClip&quot;: false, &quot;opacity&quot;: 1, &quot;smoothFactor&quot;: 1.0, &quot;stroke&quot;: true, &quot;weight&quot;: 2.5}\n",
       "            ).addTo(map_4ec2a234e1a3f23d72fa49838a0c6fa1);\n",
       "        \n",
       "    \n",
       "            var poly_line_4fc3dabea5f339c497c15c0195fdde12 = L.polyline(\n",
       "                [[33.2684237, -7.5839331], [32.885508, -6.909238]],\n",
       "                {&quot;bubblingMouseEvents&quot;: true, &quot;color&quot;: &quot;red&quot;, &quot;dashArray&quot;: null, &quot;dashOffset&quot;: null, &quot;fill&quot;: false, &quot;fillColor&quot;: &quot;red&quot;, &quot;fillOpacity&quot;: 0.2, &quot;fillRule&quot;: &quot;evenodd&quot;, &quot;lineCap&quot;: &quot;round&quot;, &quot;lineJoin&quot;: &quot;round&quot;, &quot;noClip&quot;: false, &quot;opacity&quot;: 1, &quot;smoothFactor&quot;: 1.0, &quot;stroke&quot;: true, &quot;weight&quot;: 2.5}\n",
       "            ).addTo(map_4ec2a234e1a3f23d72fa49838a0c6fa1);\n",
       "        \n",
       "    \n",
       "            var poly_line_b8fe1058692d754d4b7d92e6c0f3d4fe = L.polyline(\n",
       "                [[33.2684237, -7.5839331], [32.334193, -6.353335]],\n",
       "                {&quot;bubblingMouseEvents&quot;: true, &quot;color&quot;: &quot;red&quot;, &quot;dashArray&quot;: null, &quot;dashOffset&quot;: null, &quot;fill&quot;: false, &quot;fillColor&quot;: &quot;red&quot;, &quot;fillOpacity&quot;: 0.2, &quot;fillRule&quot;: &quot;evenodd&quot;, &quot;lineCap&quot;: &quot;round&quot;, &quot;lineJoin&quot;: &quot;round&quot;, &quot;noClip&quot;: false, &quot;opacity&quot;: 1, &quot;smoothFactor&quot;: 1.0, &quot;stroke&quot;: true, &quot;weight&quot;: 2.5}\n",
       "            ).addTo(map_4ec2a234e1a3f23d72fa49838a0c6fa1);\n",
       "        \n",
       "    \n",
       "            var poly_line_91c5fcd3c8da8d07927c50f80252ebdb = L.polyline(\n",
       "                [[33.2684237, -7.5839331], [33.0660066, -7.2453832]],\n",
       "                {&quot;bubblingMouseEvents&quot;: true, &quot;color&quot;: &quot;red&quot;, &quot;dashArray&quot;: null, &quot;dashOffset&quot;: null, &quot;fill&quot;: false, &quot;fillColor&quot;: &quot;red&quot;, &quot;fillOpacity&quot;: 0.2, &quot;fillRule&quot;: &quot;evenodd&quot;, &quot;lineCap&quot;: &quot;round&quot;, &quot;lineJoin&quot;: &quot;round&quot;, &quot;noClip&quot;: false, &quot;opacity&quot;: 1, &quot;smoothFactor&quot;: 1.0, &quot;stroke&quot;: true, &quot;weight&quot;: 2.5}\n",
       "            ).addTo(map_4ec2a234e1a3f23d72fa49838a0c6fa1);\n",
       "        \n",
       "    \n",
       "            var poly_line_bb9fa166d2a075ac682c88d7f2f85f38 = L.polyline(\n",
       "                [[33.2684237, -7.5839331], [33.277113, -7.2331554]],\n",
       "                {&quot;bubblingMouseEvents&quot;: true, &quot;color&quot;: &quot;red&quot;, &quot;dashArray&quot;: null, &quot;dashOffset&quot;: null, &quot;fill&quot;: false, &quot;fillColor&quot;: &quot;red&quot;, &quot;fillOpacity&quot;: 0.2, &quot;fillRule&quot;: &quot;evenodd&quot;, &quot;lineCap&quot;: &quot;round&quot;, &quot;lineJoin&quot;: &quot;round&quot;, &quot;noClip&quot;: false, &quot;opacity&quot;: 1, &quot;smoothFactor&quot;: 1.0, &quot;stroke&quot;: true, &quot;weight&quot;: 2.5}\n",
       "            ).addTo(map_4ec2a234e1a3f23d72fa49838a0c6fa1);\n",
       "        \n",
       "    \n",
       "            var poly_line_f0dbe9e546e1133960374a3d9e6ce65e = L.polyline(\n",
       "                [[33.2684237, -7.5839331], [33.2684237, -7.5839331]],\n",
       "                {&quot;bubblingMouseEvents&quot;: true, &quot;color&quot;: &quot;red&quot;, &quot;dashArray&quot;: null, &quot;dashOffset&quot;: null, &quot;fill&quot;: false, &quot;fillColor&quot;: &quot;red&quot;, &quot;fillOpacity&quot;: 0.2, &quot;fillRule&quot;: &quot;evenodd&quot;, &quot;lineCap&quot;: &quot;round&quot;, &quot;lineJoin&quot;: &quot;round&quot;, &quot;noClip&quot;: false, &quot;opacity&quot;: 1, &quot;smoothFactor&quot;: 1.0, &quot;stroke&quot;: true, &quot;weight&quot;: 2.5}\n",
       "            ).addTo(map_4ec2a234e1a3f23d72fa49838a0c6fa1);\n",
       "        \n",
       "&lt;/script&gt;\n",
       "&lt;/html&gt;\" style=\"position:absolute;width:100%;height:100%;left:0;top:0;border:none !important;\" allowfullscreen webkitallowfullscreen mozallowfullscreen></iframe></div></div>"
      ],
      "text/plain": [
       "<folium.folium.Map at 0x1b0bf5915e0>"
      ]
     },
     "execution_count": 225,
     "metadata": {},
     "output_type": "execute_result"
    }
   ],
   "source": [
    "import folium\n",
    "\n",
    "# Création de la carte\n",
    "m = folium.Map(location=[33.03086715, -7.6162350954996265], zoom_start=8.5)\n",
    "\n",
    "# Ajout du premier itinéraire à la carte en utilisant les coordonnées de FST et les distinations\n",
    "#folium.PolyLine(locations=[ Adress_Sourc_coord , coor ], color='red', weight=2.5, opacity=1).add_to(m)\n",
    "\n",
    "for coor1 in coordinates :\n",
    "    folium.PolyLine(locations=[ Adress_Sourc_coord , coor1 ], color='red', weight=2.5, opacity=1).add_to(m)\n",
    "    for coor2 in coordinates : \n",
    "        folium.PolyLine(locations=[ coor1 , coor2 ], color='red', weight=2.5, opacity=1).add_to(m)\n",
    "        cour1 = coor2   \n",
    "# Affichage de la carte\n",
    "m\n"
   ]
  },
  {
   "cell_type": "code",
   "execution_count": 226,
   "id": "411a9f7e-b1b4-4562-b5d6-67e50bf877a3",
   "metadata": {},
   "outputs": [
    {
     "data": {
      "text/plain": [
       "[1, 2, 3, 4, 5, 6]"
      ]
     },
     "execution_count": 226,
     "metadata": {},
     "output_type": "execute_result"
    }
   ],
   "source": [
    "IDs = df['id'].tolist()\n",
    "IDs"
   ]
  },
  {
   "cell_type": "markdown",
   "id": "5dae8f56-82a6-4960-bc6a-f972cf16da40",
   "metadata": {},
   "source": [
    "### les (N-1)!/2 path possibles "
   ]
  },
  {
   "cell_type": "code",
   "execution_count": 227,
   "id": "b63896d6-66ab-4555-bbda-03bfcf86e125",
   "metadata": {},
   "outputs": [],
   "source": [
    "import random \n",
    "import math \n",
    "def pathPossible(liste_coord) :\n",
    "    \n",
    "    N = len(liste_coord)\n",
    "    Liste_parents = [] \n",
    "    Parents = []\n",
    "    for i in range(round(math.factorial(N-1)) // 2):\n",
    "        Parents = random.sample(liste_coord , N )\n",
    "        Liste_parents.append(Parents)\n",
    "        \n",
    "    return Liste_parents  "
   ]
  },
  {
   "cell_type": "code",
   "execution_count": 228,
   "id": "7dfb1d33-92fc-4e78-9818-09eb3a0984a2",
   "metadata": {},
   "outputs": [
    {
     "data": {
      "text/plain": [
       "[[4, 6, 3, 1, 2, 5],\n",
       " [4, 3, 2, 5, 1, 6],\n",
       " [6, 2, 1, 3, 5, 4],\n",
       " [3, 6, 5, 2, 1, 4],\n",
       " [4, 3, 6, 2, 5, 1],\n",
       " [4, 1, 6, 3, 5, 2],\n",
       " [4, 3, 1, 5, 2, 6],\n",
       " [6, 4, 2, 1, 5, 3],\n",
       " [4, 5, 2, 6, 3, 1],\n",
       " [2, 3, 5, 4, 6, 1],\n",
       " [5, 6, 4, 2, 1, 3],\n",
       " [5, 2, 1, 6, 3, 4],\n",
       " [3, 2, 6, 5, 1, 4],\n",
       " [1, 6, 5, 4, 3, 2],\n",
       " [1, 6, 5, 3, 2, 4],\n",
       " [4, 3, 6, 5, 2, 1],\n",
       " [6, 4, 3, 1, 5, 2],\n",
       " [1, 5, 3, 2, 4, 6],\n",
       " [2, 3, 4, 1, 6, 5],\n",
       " [3, 6, 5, 2, 4, 1],\n",
       " [5, 2, 1, 3, 6, 4],\n",
       " [2, 1, 3, 4, 5, 6],\n",
       " [2, 4, 3, 5, 6, 1],\n",
       " [6, 2, 4, 1, 3, 5],\n",
       " [5, 1, 2, 3, 6, 4],\n",
       " [6, 4, 5, 2, 3, 1],\n",
       " [3, 6, 2, 1, 5, 4],\n",
       " [5, 3, 4, 2, 6, 1],\n",
       " [5, 4, 2, 3, 1, 6],\n",
       " [2, 3, 1, 6, 4, 5],\n",
       " [2, 6, 3, 1, 5, 4],\n",
       " [6, 2, 5, 4, 3, 1],\n",
       " [3, 1, 6, 2, 4, 5],\n",
       " [5, 6, 3, 4, 1, 2],\n",
       " [6, 2, 4, 3, 5, 1],\n",
       " [1, 2, 5, 4, 6, 3],\n",
       " [5, 6, 3, 2, 1, 4],\n",
       " [2, 1, 5, 6, 3, 4],\n",
       " [3, 2, 5, 4, 6, 1],\n",
       " [1, 3, 6, 5, 2, 4],\n",
       " [1, 3, 4, 5, 2, 6],\n",
       " [5, 1, 6, 2, 4, 3],\n",
       " [1, 6, 2, 3, 4, 5],\n",
       " [3, 1, 2, 6, 4, 5],\n",
       " [4, 2, 3, 1, 5, 6],\n",
       " [3, 5, 2, 1, 6, 4],\n",
       " [4, 5, 2, 1, 3, 6],\n",
       " [1, 6, 3, 2, 4, 5],\n",
       " [2, 1, 4, 6, 5, 3],\n",
       " [4, 1, 6, 3, 2, 5],\n",
       " [1, 4, 6, 3, 5, 2],\n",
       " [4, 3, 2, 1, 5, 6],\n",
       " [6, 1, 5, 2, 3, 4],\n",
       " [2, 4, 3, 5, 1, 6],\n",
       " [6, 1, 3, 5, 2, 4],\n",
       " [1, 6, 4, 3, 5, 2],\n",
       " [6, 1, 2, 5, 4, 3],\n",
       " [5, 3, 4, 2, 6, 1],\n",
       " [2, 3, 6, 4, 5, 1],\n",
       " [5, 4, 2, 3, 1, 6]]"
      ]
     },
     "execution_count": 228,
     "metadata": {},
     "output_type": "execute_result"
    }
   ],
   "source": [
    "#Par les ids\n",
    "path_possible = pathPossible(IDs)\n",
    "path_possible"
   ]
  },
  {
   "cell_type": "code",
   "execution_count": 229,
   "id": "38662378-2cf1-4f5e-87ab-de0963a02af5",
   "metadata": {},
   "outputs": [],
   "source": [
    "#par les coordonnes\n",
    "parents_listes = pathPossible(coordinates)\n",
    "#parents_listes"
   ]
  },
  {
   "cell_type": "markdown",
   "id": "4214ccb9-877a-4c33-8119-6b6ec2b9f797",
   "metadata": {},
   "source": [
    "## Calculate the distance for each path"
   ]
  },
  {
   "cell_type": "code",
   "execution_count": 230,
   "id": "f01847dd-2be8-40d4-a104-6b47840ec107",
   "metadata": {},
   "outputs": [],
   "source": [
    "from geopy.distance import geodesic\n",
    "\n",
    "def fitness_fn(parents_listes) :\n",
    "    \n",
    "    path_distances = []\n",
    "    for sublist in parents_listes :\n",
    "        total_distance = 0\n",
    "        for i in range(len(sublist) - 1) : \n",
    "            point1 = sublist[i] \n",
    "            point2 = sublist[i + 1]\n",
    "            distance = geodesic(point1, point2).km\n",
    "            total_distance += distance\n",
    "        path_distances.append(total_distance)\n",
    "       \n",
    "    return path_distances\n"
   ]
  },
  {
   "cell_type": "code",
   "execution_count": 231,
   "id": "cc2825b1-c79e-4e6a-9a3d-bc6722d37b88",
   "metadata": {},
   "outputs": [
    {
     "data": {
      "text/plain": [
       "[506.1300136782867,\n",
       " 389.2356502298373,\n",
       " 442.78958896780296,\n",
       " 400.59577786178653,\n",
       " 462.64960306449694,\n",
       " 367.5275670684012,\n",
       " 257.04490400301387,\n",
       " 330.08461205271556,\n",
       " 409.4537764189524,\n",
       " 491.8748712469169,\n",
       " 449.2566780855524,\n",
       " 447.18286298462857,\n",
       " 330.08461205271556,\n",
       " 491.8748712469169,\n",
       " 430.80219155237984,\n",
       " 352.0959647371909,\n",
       " 329.17450549678927,\n",
       " 439.5987403283259,\n",
       " 270.5123129696529,\n",
       " 478.0323979550991,\n",
       " 366.2278516135818,\n",
       " 444.34966192493175,\n",
       " 373.5697373706491,\n",
       " 262.17409046255773,\n",
       " 488.46981382904437,\n",
       " 393.71232277748663,\n",
       " 394.91815250407655,\n",
       " 490.4632698983078,\n",
       " 392.79733930503096,\n",
       " 449.2566780855524,\n",
       " 374.56930890136607,\n",
       " 336.7757360270108,\n",
       " 462.51534856995704,\n",
       " 372.3639076440591,\n",
       " 400.9390987558837,\n",
       " 395.79303524316805,\n",
       " 336.3237724736694,\n",
       " 341.6768675520288,\n",
       " 433.14385694590635,\n",
       " 354.4991870339946,\n",
       " 307.5952843797884,\n",
       " 423.89065096635557,\n",
       " 444.0657130355551,\n",
       " 350.64612464220295,\n",
       " 356.55331665117757,\n",
       " 308.54540560090203,\n",
       " 300.95950947543673,\n",
       " 373.5697373706491,\n",
       " 463.43033204241254,\n",
       " 491.9515087226558,\n",
       " 424.1201177474236,\n",
       " 404.6184451204395,\n",
       " 369.9681097744767,\n",
       " 491.0872449042435,\n",
       " 456.5985638426197,\n",
       " 418.4161018770597,\n",
       " 388.47190585981434,\n",
       " 408.68571629062666,\n",
       " 445.7612632735409,\n",
       " 339.15874700252886]"
      ]
     },
     "execution_count": 231,
     "metadata": {},
     "output_type": "execute_result"
    }
   ],
   "source": [
    "fitness_fn(parents_listes)"
   ]
  },
  {
   "cell_type": "markdown",
   "id": "de49c52d-98a5-491d-9751-4ce907b8e026",
   "metadata": {},
   "source": [
    "### Construire un disctionnaire "
   ]
  },
  {
   "cell_type": "code",
   "execution_count": 232,
   "id": "b2eab31b-c220-4e76-af0c-2a11b9710838",
   "metadata": {},
   "outputs": [
    {
     "data": {
      "text/plain": [
       "\" path_possible = pathPossible(IDs)\\nDistances_Liste = calcule_path_distances(parents_listes)\\n\\n# initialiser un dictionnaire vide\\npaths_with_distances = {}\\n\\n# itérer sur les éléments de la première liste\\nfor i in range(len(path_possible)):\\n    # utiliser chaque sous-liste comme clé\\n    key = tuple(path_possible[i])\\n    # utiliser l'élément correspondant de la deuxième liste comme valeur\\n    value = Distances_Liste[i]\\n    # ajouter l'entrée au dictionnaire\\n    paths_with_distances[key] = value\\n#paths_with_distances\\n\""
      ]
     },
     "execution_count": 232,
     "metadata": {},
     "output_type": "execute_result"
    }
   ],
   "source": [
    "\"\"\" path_possible = pathPossible(IDs)\n",
    "Distances_Liste = calcule_path_distances(parents_listes)\n",
    "\n",
    "# initialiser un dictionnaire vide\n",
    "paths_with_distances = {}\n",
    "\n",
    "# itérer sur les éléments de la première liste\n",
    "for i in range(len(path_possible)):\n",
    "    # utiliser chaque sous-liste comme clé\n",
    "    key = tuple(path_possible[i])\n",
    "    # utiliser l'élément correspondant de la deuxième liste comme valeur\n",
    "    value = Distances_Liste[i]\n",
    "    # ajouter l'entrée au dictionnaire\n",
    "    paths_with_distances[key] = value\n",
    "#paths_with_distances\n",
    "\"\"\""
   ]
  },
  {
   "cell_type": "code",
   "execution_count": 233,
   "id": "a5bd098d-b432-4007-ad77-39714d6537e9",
   "metadata": {},
   "outputs": [],
   "source": [
    "def distances_paths(path_possible , Distances_Liste ) : \n",
    "    path_possible = pathPossible(IDs)\n",
    "    Distances_Liste = calcule_path_distances(parents_listes)\n",
    "    paths_with_distances = {}\n",
    "    # itérer sur les éléments de la première liste\n",
    "    for i in range(len(path_possible)):\n",
    "         # utiliser chaque sous-liste comme clé\n",
    "        key = tuple(path_possible[i])\n",
    "   \n",
    "         # utiliser l'élément correspondant de la deuxième liste comme valeur\n",
    "        value = Distances_Liste[i]\n",
    "    # ajouter l'entrée au dictionnaire\n",
    "        paths_with_distances[key] = value\n",
    "    return paths_with_distances "
   ]
  },
  {
   "cell_type": "code",
   "execution_count": 234,
   "id": "3e7fb162-e0fc-47fd-a8ba-1e63e1dd504b",
   "metadata": {},
   "outputs": [
    {
     "data": {
      "text/plain": [
       "{(4, 6, 1, 5, 4, 6): 255.7605526621296,\n",
       " (1, 6, 3, 4, 2, 3): 263.8765380653012,\n",
       " (4, 6, 3, 1, 5, 2): 305.3624833326825,\n",
       " (3, 3, 4, 6, 5, 2): 309.46728643811537,\n",
       " (1, 4, 5, 2, 1, 6): 329.17450549678927,\n",
       " (1, 4, 6, 3, 4, 1): 329.2433272706634,\n",
       " (2, 3, 3, 4, 6, 5): 333.09638966245507,\n",
       " (3, 2, 1, 4, 5, 1): 333.2306441569949,\n",
       " (1, 5, 2, 1, 5, 3): 336.3237724736694,\n",
       " (1, 2, 6, 5, 1, 4): 343.79614095945567,\n",
       " (3, 2, 1, 4, 5, 2): 344.83154943634804,\n",
       " (3, 4, 6, 5, 1, 4): 346.9123960395351,\n",
       " (5, 2, 4, 6, 5, 2): 350.9300735315796,\n",
       " (6, 4, 5, 2, 3, 6): 352.09596473719097,\n",
       " (5, 1, 5, 6, 1, 4): 356.2005459879267,\n",
       " (3, 4, 5, 2, 1, 4): 360.55022625587185,\n",
       " (1, 5, 6, 1, 3, 4): 361.82487775633604,\n",
       " (2, 6, 4, 5, 2, 4): 366.54933243820415,\n",
       " (4, 2, 5, 3, 5, 3): 373.99281876878456,\n",
       " (3, 1, 6, 2, 6, 4): 376.2072701954306,\n",
       " (2, 3, 3, 2, 1, 4): 380.6102440526764,\n",
       " (3, 3, 1, 2, 6, 4): 386.8141125798829,\n",
       " (4, 6, 4, 3, 5, 1): 387.55002502260095,\n",
       " (1, 4, 1, 5, 3, 2): 389.23565022983735,\n",
       " (6, 5, 1, 5, 3, 1): 390.0329764129308,\n",
       " (3, 3, 6, 1, 2, 5): 390.8135712533408,\n",
       " (5, 3, 3, 4, 2, 6): 393.78013527421575,\n",
       " (4, 6, 2, 1, 5, 5): 396.4368143729388,\n",
       " (6, 3, 1, 5, 1, 4): 396.57106886747874,\n",
       " (1, 4, 5, 6, 3, 5): 399.3899481351965,\n",
       " (6, 4, 4, 6, 3, 5): 400.9390987558838,\n",
       " (4, 3, 6, 1, 6, 5): 404.6184451204395,\n",
       " (1, 5, 1, 4, 2, 3): 404.6184451204395,\n",
       " (1, 6, 3, 5, 2, 5): 409.737725308329,\n",
       " (1, 6, 4, 1, 3, 5): 411.8185999863959,\n",
       " (5, 4, 2, 1, 2, 4): 416.1440334316126,\n",
       " (6, 2, 4, 3, 6, 2): 416.2782879261526,\n",
       " (4, 6, 3, 1, 5, 6): 416.2785131164819,\n",
       " (5, 2, 4, 2, 6, 1): 417.74670283192984,\n",
       " (1, 6, 6, 1, 2, 5): 420.1568224934911,\n",
       " (6, 4, 1, 3, 2, 6): 420.2841796232734,\n",
       " (1, 5, 2, 4, 4, 2): 436.47981691008977,\n",
       " (3, 4, 3, 4, 2, 5): 440.3863666709993,\n",
       " (3, 4, 5, 6, 5, 2): 440.5137238007815,\n",
       " (2, 5, 6, 6, 2, 3): 440.5137238007815,\n",
       " (3, 2, 6, 4, 2, 6): 446.3952366419552,\n",
       " (4, 3, 6, 6, 5, 2): 448.4153933035002,\n",
       " (4, 3, 1, 5, 2, 6): 449.6212230300903,\n",
       " (1, 2, 3, 4, 3, 6): 452.3696383880936,\n",
       " (1, 6, 4, 5, 3, 1): 453.300569394646,\n",
       " (6, 3, 4, 2, 5, 5): 453.4412136201437,\n",
       " (1, 2, 6, 4, 1, 2): 463.4303320424126,\n",
       " (6, 5, 3, 2, 1, 4): 469.2422118946625,\n",
       " (3, 5, 4, 3, 2, 6): 469.97801721532323,\n",
       " (4, 2, 5, 3, 4, 1): 470.3122473350939,\n",
       " (1, 2, 6, 4, 1, 5): 478.0323979550991,\n",
       " (2, 3, 5, 1, 2, 4): 484.7904674644886,\n",
       " (1, 4, 3, 6, 2, 5): 485.6447609953021,\n",
       " (5, 4, 6, 2, 3, 4): 523.2241250912618}"
      ]
     },
     "execution_count": 234,
     "metadata": {},
     "output_type": "execute_result"
    }
   ],
   "source": [
    "sorted_population_1 = dict(sorted(paths_with_distances.items(), key=lambda item: item[1]))\n",
    "sorted_population_1"
   ]
  },
  {
   "cell_type": "markdown",
   "id": "adb5ee7f-334e-493d-b4a9-6db675a78038",
   "metadata": {},
   "source": [
    "### Meilleur parents "
   ]
  },
  {
   "cell_type": "code",
   "execution_count": 235,
   "id": "a656dc5f-4c34-4571-b640-a170ecb8e3fa",
   "metadata": {},
   "outputs": [],
   "source": [
    "def best_parent(paths_distances):\n",
    "    # initialiser la distance minimale à l'infini\n",
    "    min_distance = float('inf')\n",
    "    # initialiser la variable pour stocker le meilleur parent\n",
    "    best_parent = None\n",
    "    # itérer sur les entrées du dictionnaire\n",
    "    for parent, distance in paths_distances.items():\n",
    "        # si la distance courante est plus petite que la distance minimale enregistrée\n",
    "        if distance < min_distance:\n",
    "            # mettre à jour la distance minimale\n",
    "            min_distance = distance\n",
    "            # mettre à jour le meilleur parent\n",
    "            best_parent = parent\n",
    "    # retourner le meilleur parent et sa distance\n",
    "    return (best_parent, min_distance)"
   ]
  },
  {
   "cell_type": "code",
   "execution_count": 236,
   "id": "404dc914-8c76-412c-ada3-082c7d165e44",
   "metadata": {},
   "outputs": [
    {
     "data": {
      "text/plain": [
       "((4, 6, 1, 5, 4, 6), 255.7605526621296)"
      ]
     },
     "execution_count": 236,
     "metadata": {},
     "output_type": "execute_result"
    }
   ],
   "source": [
    " best_parent(paths_with_distances)"
   ]
  },
  {
   "cell_type": "markdown",
   "id": "f6ae3f5b-6811-466d-929e-4919b991049c",
   "metadata": {},
   "source": [
    "### Croisement "
   ]
  },
  {
   "cell_type": "code",
   "execution_count": 237,
   "id": "9e4b0ada-86ba-4286-bb66-bea41274e327",
   "metadata": {},
   "outputs": [],
   "source": [
    "def crossover(path_possible): \n",
    "    \n",
    "    new_generation = [] \n",
    "    n = len(path_possible[0])\n",
    "    iteration = math.factorial(n)\n",
    "    \n",
    "    for i in range(iteration) :\n",
    "        parent1 = random.choice(path_possible)\n",
    "        parent2 = random.choice(path_possible)\n",
    "        \n",
    "        crossover_point = random.randint(1,len(parent1)-1)\n",
    "        child = parent1[:crossover_point] + parent2[crossover_point:]\n",
    "        new_generation.append(child)\n",
    "    return new_generation"
   ]
  },
  {
   "cell_type": "markdown",
   "id": "a8a510dd-cc99-49f8-b1c9-4b1a2bea2ae7",
   "metadata": {},
   "source": [
    "###  une nouvelle population "
   ]
  },
  {
   "cell_type": "code",
   "execution_count": 238,
   "id": "fa9cd302-9d12-443c-b14f-d46e8989ce23",
   "metadata": {},
   "outputs": [],
   "source": [
    "liste_child_By_Id = crossover(path_possible)\n",
    "liste_child_By_coor = crossover(parents_listes)\n",
    "Distances_Childs_Liste = fitness_fn(liste_child_By_coor)\n",
    "\n",
    "# initialiser un dictionnaire vide\n",
    "New_generation_dict_by_Id = {}\n",
    "\n",
    "# itérer sur les éléments de la première liste\n",
    "for i in range(len(liste_child_By_Id)):\n",
    "    # utiliser chaque sous-liste comme clé\n",
    "    key = tuple(liste_child_By_Id[i])\n",
    "    # utiliser l'élément correspondant de la deuxième liste comme valeur\n",
    "    value = Distances_Childs_Liste[i]\n",
    "    # ajouter l'entrée au dictionnaire\n",
    "    New_generation_dict_by_Id[key] = value\n",
    "#New_generation_dict"
   ]
  },
  {
   "cell_type": "code",
   "execution_count": 239,
   "id": "fc290566-b365-4c31-b7d4-9af6cce0bc1b",
   "metadata": {},
   "outputs": [
    {
     "name": "stdout",
     "output_type": "stream",
     "text": [
      "path minimal  (4, 1, 6, 3, 2, 6)\n",
      "Distace minimale 146.31615386454888\n"
     ]
    }
   ],
   "source": [
    "path_minimale_id , distance = best_parent(New_generation_dict_by_Id)\n",
    "print('path minimal ', path_minimale_id)\n",
    "print('Distace minimale' , distance)"
   ]
  },
  {
   "cell_type": "markdown",
   "id": "6947f021-9639-4982-bc08-3160a8e51893",
   "metadata": {},
   "source": [
    "## après le croisement, on voit que la distance minimale du dictionnaire des enfants est inférieure à la distance minimale du dictionnaire des parents "
   ]
  },
  {
   "cell_type": "code",
   "execution_count": 240,
   "id": "accbea47-e1be-4a2f-822f-e3fbb2787a25",
   "metadata": {},
   "outputs": [],
   "source": [
    "liste_child_By_Id = crossover(path_possible)\n",
    "liste_child_By_coor = crossover(parents_listes)\n",
    "Distances_Childs_Liste = fitness_fn(liste_child_By_coor)\n",
    "\n",
    "# initialiser un dictionnaire vide\n",
    "New_generation_dict_By_coor = {}\n",
    "\n",
    "# itérer sur les éléments de la première liste\n",
    "for i in range(len(liste_child_By_coor)):\n",
    "    # utiliser chaque sous-liste comme clé\n",
    "    key = tuple(liste_child_By_coor[i])\n",
    "    # utiliser l'élément correspondant de la deuxième liste comme valeur\n",
    "    value = Distances_Childs_Liste[i]\n",
    "    # ajouter l'entrée au dictionnaire\n",
    "    New_generation_dict_By_coor[key] = value"
   ]
  },
  {
   "cell_type": "code",
   "execution_count": 241,
   "id": "0fbb7bfe-4a69-4cf4-85fc-74fff6fd7d11",
   "metadata": {},
   "outputs": [
    {
     "data": {
      "text/plain": [
       "[(33.2684237, -7.5839331),\n",
       " (33.277113, -7.2331554),\n",
       " (33.0660066, -7.2453832),\n",
       " (33.277113, -7.2331554),\n",
       " (33.0660066, -7.2453832),\n",
       " (33.2684237, -7.5839331)]"
      ]
     },
     "execution_count": 241,
     "metadata": {},
     "output_type": "execute_result"
    }
   ],
   "source": [
    "path_minimale_coor , distance = best_parent(New_generation_dict_By_coor)\n",
    "list_path_min = list(path_minimale_coor)\n",
    "list_path_min"
   ]
  },
  {
   "cell_type": "markdown",
   "id": "9810a8b4-6628-4b3e-a19f-5fb843a8442e",
   "metadata": {},
   "source": [
    "### Dessiner le chamin minimale "
   ]
  },
  {
   "cell_type": "markdown",
   "id": "4c5452ce-b5bf-422d-859b-9797878aaa5e",
   "metadata": {},
   "source": [
    "#### Map HTML "
   ]
  },
  {
   "cell_type": "code",
   "execution_count": 242,
   "id": "9b77299c-87c1-4aa5-afe6-1c8cb4b9223a",
   "metadata": {},
   "outputs": [],
   "source": [
    "import folium\n",
    "\n",
    "# Créer une carte centrée sur la première coordonnée du chemin\n",
    "start_coord = list_path_min[0]\n",
    "map = folium.Map(location=start_coord, zoom_start=13)\n",
    "\n",
    "# Ajouter une ligne pour dessiner le chemin\n",
    "folium.PolyLine(list_path_min, color=\"red\", weight=2.5, opacity=1).add_to(map)\n",
    "\n",
    "# Ajouter des marqueurs pour indiquer le début et la fin du chemin\n",
    "folium.Marker(list_path_min[0], icon=folium.Icon(color='green')).add_to(map)\n",
    "folium.Marker(list_path_min[-1], icon=folium.Icon(color='red')).add_to(map)\n",
    "\n",
    "# Afficher la carte\n",
    "map.save(\"map.html\")\n"
   ]
  },
  {
   "cell_type": "markdown",
   "id": "8cbb9540-441b-4352-90e4-a9202a62ee1c",
   "metadata": {},
   "source": [
    "### Google Map "
   ]
  },
  {
   "cell_type": "code",
   "execution_count": 243,
   "id": "0f2e9d6f-f69d-4745-ae98-4b9e05acafd3",
   "metadata": {},
   "outputs": [
    {
     "data": {
      "text/html": [
       "<div style=\"width:100%;\"><div style=\"position:relative;width:100%;height:0;padding-bottom:60%;\"><span style=\"color:#565656\">Make this Notebook Trusted to load map: File -> Trust Notebook</span><iframe srcdoc=\"&lt;!DOCTYPE html&gt;\n",
       "&lt;html&gt;\n",
       "&lt;head&gt;\n",
       "    \n",
       "    &lt;meta http-equiv=&quot;content-type&quot; content=&quot;text/html; charset=UTF-8&quot; /&gt;\n",
       "    \n",
       "        &lt;script&gt;\n",
       "            L_NO_TOUCH = false;\n",
       "            L_DISABLE_3D = false;\n",
       "        &lt;/script&gt;\n",
       "    \n",
       "    &lt;style&gt;html, body {width: 100%;height: 100%;margin: 0;padding: 0;}&lt;/style&gt;\n",
       "    &lt;style&gt;#map {position:absolute;top:0;bottom:0;right:0;left:0;}&lt;/style&gt;\n",
       "    &lt;script src=&quot;https://cdn.jsdelivr.net/npm/leaflet@1.9.3/dist/leaflet.js&quot;&gt;&lt;/script&gt;\n",
       "    &lt;script src=&quot;https://code.jquery.com/jquery-1.12.4.min.js&quot;&gt;&lt;/script&gt;\n",
       "    &lt;script src=&quot;https://cdn.jsdelivr.net/npm/bootstrap@5.2.2/dist/js/bootstrap.bundle.min.js&quot;&gt;&lt;/script&gt;\n",
       "    &lt;script src=&quot;https://cdnjs.cloudflare.com/ajax/libs/Leaflet.awesome-markers/2.0.2/leaflet.awesome-markers.js&quot;&gt;&lt;/script&gt;\n",
       "    &lt;link rel=&quot;stylesheet&quot; href=&quot;https://cdn.jsdelivr.net/npm/leaflet@1.9.3/dist/leaflet.css&quot;/&gt;\n",
       "    &lt;link rel=&quot;stylesheet&quot; href=&quot;https://cdn.jsdelivr.net/npm/bootstrap@5.2.2/dist/css/bootstrap.min.css&quot;/&gt;\n",
       "    &lt;link rel=&quot;stylesheet&quot; href=&quot;https://netdna.bootstrapcdn.com/bootstrap/3.0.0/css/bootstrap.min.css&quot;/&gt;\n",
       "    &lt;link rel=&quot;stylesheet&quot; href=&quot;https://cdn.jsdelivr.net/npm/@fortawesome/fontawesome-free@6.2.0/css/all.min.css&quot;/&gt;\n",
       "    &lt;link rel=&quot;stylesheet&quot; href=&quot;https://cdnjs.cloudflare.com/ajax/libs/Leaflet.awesome-markers/2.0.2/leaflet.awesome-markers.css&quot;/&gt;\n",
       "    &lt;link rel=&quot;stylesheet&quot; href=&quot;https://cdn.jsdelivr.net/gh/python-visualization/folium/folium/templates/leaflet.awesome.rotate.min.css&quot;/&gt;\n",
       "    \n",
       "            &lt;meta name=&quot;viewport&quot; content=&quot;width=device-width,\n",
       "                initial-scale=1.0, maximum-scale=1.0, user-scalable=no&quot; /&gt;\n",
       "            &lt;style&gt;\n",
       "                #map_3ea81a7ca55cd395fa25ccbd243c122b {\n",
       "                    position: relative;\n",
       "                    width: 100.0%;\n",
       "                    height: 100.0%;\n",
       "                    left: 0.0%;\n",
       "                    top: 0.0%;\n",
       "                }\n",
       "                .leaflet-container { font-size: 1rem; }\n",
       "            &lt;/style&gt;\n",
       "        \n",
       "&lt;/head&gt;\n",
       "&lt;body&gt;\n",
       "    \n",
       "    \n",
       "            &lt;div class=&quot;folium-map&quot; id=&quot;map_3ea81a7ca55cd395fa25ccbd243c122b&quot; &gt;&lt;/div&gt;\n",
       "        \n",
       "&lt;/body&gt;\n",
       "&lt;script&gt;\n",
       "    \n",
       "    \n",
       "            var map_3ea81a7ca55cd395fa25ccbd243c122b = L.map(\n",
       "                &quot;map_3ea81a7ca55cd395fa25ccbd243c122b&quot;,\n",
       "                {\n",
       "                    center: [33.03086715, -7.6162350954996265],\n",
       "                    crs: L.CRS.EPSG3857,\n",
       "                    zoom: 12,\n",
       "                    zoomControl: true,\n",
       "                    preferCanvas: false,\n",
       "                }\n",
       "            );\n",
       "\n",
       "            \n",
       "\n",
       "        \n",
       "    \n",
       "            var tile_layer_575de22f2f96594ea70ea71f9c1b1da4 = L.tileLayer(\n",
       "                &quot;https://{s}.tile.openstreetmap.org/{z}/{x}/{y}.png&quot;,\n",
       "                {&quot;attribution&quot;: &quot;Data by \\u0026copy; \\u003ca target=\\&quot;_blank\\&quot; href=\\&quot;http://openstreetmap.org\\&quot;\\u003eOpenStreetMap\\u003c/a\\u003e, under \\u003ca target=\\&quot;_blank\\&quot; href=\\&quot;http://www.openstreetmap.org/copyright\\&quot;\\u003eODbL\\u003c/a\\u003e.&quot;, &quot;detectRetina&quot;: false, &quot;maxNativeZoom&quot;: 18, &quot;maxZoom&quot;: 18, &quot;minZoom&quot;: 0, &quot;noWrap&quot;: false, &quot;opacity&quot;: 1, &quot;subdomains&quot;: &quot;abc&quot;, &quot;tms&quot;: false}\n",
       "            ).addTo(map_3ea81a7ca55cd395fa25ccbd243c122b);\n",
       "        \n",
       "    \n",
       "            var feature_group_43b6f0138a472dab2d0ede7bf23b457e = L.featureGroup(\n",
       "                {}\n",
       "            ).addTo(map_3ea81a7ca55cd395fa25ccbd243c122b);\n",
       "        \n",
       "    \n",
       "            var marker_1579754c3fb06ff275c06027d9f2968b = L.marker(\n",
       "                [33.2684237, -7.5839331],\n",
       "                {}\n",
       "            ).addTo(feature_group_43b6f0138a472dab2d0ede7bf23b457e);\n",
       "        \n",
       "    \n",
       "            var marker_5130290d54e35f06f47ca47e1b05504c = L.marker(\n",
       "                [33.277113, -7.2331554],\n",
       "                {}\n",
       "            ).addTo(feature_group_43b6f0138a472dab2d0ede7bf23b457e);\n",
       "        \n",
       "    \n",
       "            var marker_b191f0daa8825d05889c5dfff6de0fa2 = L.marker(\n",
       "                [33.0660066, -7.2453832],\n",
       "                {}\n",
       "            ).addTo(feature_group_43b6f0138a472dab2d0ede7bf23b457e);\n",
       "        \n",
       "    \n",
       "            var marker_c8191062823b2314d6b74392a778a69f = L.marker(\n",
       "                [33.277113, -7.2331554],\n",
       "                {}\n",
       "            ).addTo(feature_group_43b6f0138a472dab2d0ede7bf23b457e);\n",
       "        \n",
       "    \n",
       "            var marker_b49d54dffe0888aac36145b798bff07a = L.marker(\n",
       "                [33.0660066, -7.2453832],\n",
       "                {}\n",
       "            ).addTo(feature_group_43b6f0138a472dab2d0ede7bf23b457e);\n",
       "        \n",
       "    \n",
       "            var marker_795cc925ed6b82bdb30add1f5f2f2c50 = L.marker(\n",
       "                [33.2684237, -7.5839331],\n",
       "                {}\n",
       "            ).addTo(feature_group_43b6f0138a472dab2d0ede7bf23b457e);\n",
       "        \n",
       "    \n",
       "            var poly_line_26c4dd84fbcb1772410354094b9912a7 = L.polyline(\n",
       "                [[33.2684237, -7.5839331], [33.277113, -7.2331554], [33.0660066, -7.2453832], [33.277113, -7.2331554], [33.0660066, -7.2453832], [33.2684237, -7.5839331]],\n",
       "                {&quot;bubblingMouseEvents&quot;: true, &quot;color&quot;: &quot;red&quot;, &quot;dashArray&quot;: null, &quot;dashOffset&quot;: null, &quot;fill&quot;: false, &quot;fillColor&quot;: &quot;red&quot;, &quot;fillOpacity&quot;: 0.2, &quot;fillRule&quot;: &quot;evenodd&quot;, &quot;lineCap&quot;: &quot;round&quot;, &quot;lineJoin&quot;: &quot;round&quot;, &quot;noClip&quot;: false, &quot;opacity&quot;: 1.0, &quot;smoothFactor&quot;: 1.0, &quot;stroke&quot;: true, &quot;weight&quot;: 3}\n",
       "            ).addTo(feature_group_43b6f0138a472dab2d0ede7bf23b457e);\n",
       "        \n",
       "&lt;/script&gt;\n",
       "&lt;/html&gt;\" style=\"position:absolute;width:100%;height:100%;left:0;top:0;border:none !important;\" allowfullscreen webkitallowfullscreen mozallowfullscreen></iframe></div></div>"
      ],
      "text/plain": [
       "<folium.folium.Map at 0x1b0bf2b0e80>"
      ]
     },
     "execution_count": 243,
     "metadata": {},
     "output_type": "execute_result"
    }
   ],
   "source": [
    "import folium\n",
    "\n",
    "# Créer une carte centrée sur la première coordonnée du chemin\n",
    "m = folium.Map(location=[33.03086715, -7.6162350954996265], zoom_start=12)\n",
    "\n",
    "# Créer un objet FeatureGroup pour regrouper les marqueurs\n",
    "fg = folium.FeatureGroup(name=\"My Route\")\n",
    "\n",
    "# Ajouter des marqueurs pour chaque point sur le chemin\n",
    "\n",
    "for coord in list_path_min:\n",
    "    fg.add_child(folium.Marker(location=coord))\n",
    "\n",
    "# Ajouter un tracé entre les marqueurs pour représenter le chemin\n",
    "fg.add_child(folium.PolyLine(list_path_min, color='red'))\n",
    "\n",
    "# Ajouter l'objet FeatureGroup à la carte\n",
    "m.add_child(fg)\n",
    "\n",
    "# Afficher la carte\n",
    "m\n"
   ]
  },
  {
   "cell_type": "markdown",
   "id": "c778ac72-1aec-4de2-b87d-e6d1de918f30",
   "metadata": {},
   "source": [
    "________________________________________________________________________________________________"
   ]
  },
  {
   "cell_type": "markdown",
   "id": "ba3444db-3fa9-4513-9179-8545873414c5",
   "metadata": {
    "tags": []
   },
   "source": [
    "## Fin "
   ]
  },
  {
   "cell_type": "code",
   "execution_count": null,
   "id": "39f4b120-a1ee-4737-9259-846e7ee52f2e",
   "metadata": {},
   "outputs": [],
   "source": []
  }
 ],
 "metadata": {
  "kernelspec": {
   "display_name": "Python 3 (ipykernel)",
   "language": "python",
   "name": "python3"
  },
  "language_info": {
   "codemirror_mode": {
    "name": "ipython",
    "version": 3
   },
   "file_extension": ".py",
   "mimetype": "text/x-python",
   "name": "python",
   "nbconvert_exporter": "python",
   "pygments_lexer": "ipython3",
   "version": "3.9.12"
  }
 },
 "nbformat": 4,
 "nbformat_minor": 5
}
